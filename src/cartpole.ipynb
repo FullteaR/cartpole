{
 "cells": [
  {
   "cell_type": "code",
   "execution_count": 1,
   "metadata": {},
   "outputs": [],
   "source": [
    "import numpy as np\n",
    "import gym\n",
    "import gnwrapper\n",
    "\n",
    "from tensorflow.keras.models import Sequential\n",
    "from tensorflow.keras.layers import Dense, Activation, Flatten\n",
    "from tensorflow.keras.optimizers import Adam\n",
    "\n",
    "from rl.agents.dqn import DQNAgent\n",
    "from rl.policy import BoltzmannQPolicy\n",
    "from rl.memory import SequentialMemory"
   ]
  },
  {
   "cell_type": "code",
   "execution_count": 2,
   "metadata": {},
   "outputs": [],
   "source": [
    "ENV_NAME = 'CartPole-v0'"
   ]
  },
  {
   "cell_type": "code",
   "execution_count": 3,
   "metadata": {},
   "outputs": [],
   "source": [
    "env = gym.make(ENV_NAME)\n",
    "np.random.seed(123)\n",
    "env.seed(123)\n",
    "nb_actions = env.action_space.n"
   ]
  },
  {
   "cell_type": "code",
   "execution_count": 4,
   "metadata": {},
   "outputs": [
    {
     "name": "stdout",
     "output_type": "stream",
     "text": [
      "Model: \"sequential\"\n",
      "_________________________________________________________________\n",
      "Layer (type)                 Output Shape              Param #   \n",
      "=================================================================\n",
      "flatten (Flatten)            (None, 4)                 0         \n",
      "_________________________________________________________________\n",
      "dense (Dense)                (None, 16)                80        \n",
      "_________________________________________________________________\n",
      "activation (Activation)      (None, 16)                0         \n",
      "_________________________________________________________________\n",
      "dense_1 (Dense)              (None, 16)                272       \n",
      "_________________________________________________________________\n",
      "activation_1 (Activation)    (None, 16)                0         \n",
      "_________________________________________________________________\n",
      "dense_2 (Dense)              (None, 16)                272       \n",
      "_________________________________________________________________\n",
      "activation_2 (Activation)    (None, 16)                0         \n",
      "_________________________________________________________________\n",
      "dense_3 (Dense)              (None, 2)                 34        \n",
      "_________________________________________________________________\n",
      "activation_3 (Activation)    (None, 2)                 0         \n",
      "=================================================================\n",
      "Total params: 658\n",
      "Trainable params: 658\n",
      "Non-trainable params: 0\n",
      "_________________________________________________________________\n",
      "None\n"
     ]
    }
   ],
   "source": [
    "model = Sequential()\n",
    "model.add(Flatten(input_shape=(1,) + env.observation_space.shape))\n",
    "model.add(Dense(16))\n",
    "model.add(Activation('relu'))\n",
    "model.add(Dense(16))\n",
    "model.add(Activation('relu'))\n",
    "model.add(Dense(16))\n",
    "model.add(Activation('relu'))\n",
    "model.add(Dense(nb_actions))\n",
    "model.add(Activation('linear'))\n",
    "print(model.summary())"
   ]
  },
  {
   "cell_type": "code",
   "execution_count": 5,
   "metadata": {},
   "outputs": [],
   "source": [
    "memory = SequentialMemory(limit=50000, window_length=1)\n",
    "policy = BoltzmannQPolicy()\n",
    "dqn = DQNAgent(model=model, nb_actions=nb_actions, memory=memory, nb_steps_warmup=10,\n",
    "               target_model_update=1e-2, policy=policy)\n",
    "dqn.compile(Adam(learning_rate=1e-3), metrics=['mae'])"
   ]
  },
  {
   "cell_type": "code",
   "execution_count": null,
   "metadata": {
    "scrolled": true
   },
   "outputs": [
    {
     "name": "stdout",
     "output_type": "stream",
     "text": [
      "Training for 50000 steps ...\n"
     ]
    },
    {
     "name": "stderr",
     "output_type": "stream",
     "text": [
      "/usr/local/lib/python3.6/dist-packages/tensorflow/python/keras/engine/training.py:2426: UserWarning: `Model.state_updates` will be removed in a future version. This property should not be used in TensorFlow 2.0, as `updates` are applied automatically.\n",
      "  warnings.warn('`Model.state_updates` will be removed in a future version. '\n",
      "/usr/local/lib/python3.6/dist-packages/rl/memory.py:37: UserWarning: Not enough entries to sample without replacement. Consider increasing your warm-up phase to avoid oversampling!\n",
      "  warnings.warn('Not enough entries to sample without replacement. Consider increasing your warm-up phase to avoid oversampling!')\n"
     ]
    },
    {
     "name": "stdout",
     "output_type": "stream",
     "text": [
      "    26/50000: episode: 1, duration: 0.989s, episode steps:  26, steps per second:  26, episode reward: 26.000, mean reward:  1.000 [ 1.000,  1.000], mean action: 0.538 [0.000, 1.000],  loss: 0.459331, mae: 0.518412, mean_q: 0.111933\n"
     ]
    },
    {
     "name": "stderr",
     "output_type": "stream",
     "text": [
      "/usr/local/lib/python3.6/dist-packages/rl/memory.py:37: UserWarning: Not enough entries to sample without replacement. Consider increasing your warm-up phase to avoid oversampling!\n",
      "  warnings.warn('Not enough entries to sample without replacement. Consider increasing your warm-up phase to avoid oversampling!')\n"
     ]
    },
    {
     "name": "stdout",
     "output_type": "stream",
     "text": [
      "    60/50000: episode: 2, duration: 0.454s, episode steps:  34, steps per second:  75, episode reward: 34.000, mean reward:  1.000 [ 1.000,  1.000], mean action: 0.618 [0.000, 1.000],  loss: 0.272843, mae: 0.550465, mean_q: 0.505310\n",
      "    79/50000: episode: 3, duration: 0.162s, episode steps:  19, steps per second: 118, episode reward: 19.000, mean reward:  1.000 [ 1.000,  1.000], mean action: 0.579 [0.000, 1.000],  loss: 0.107739, mae: 0.677224, mean_q: 1.149584\n",
      "   118/50000: episode: 4, duration: 0.193s, episode steps:  39, steps per second: 202, episode reward: 39.000, mean reward:  1.000 [ 1.000,  1.000], mean action: 0.564 [0.000, 1.000],  loss: 0.082309, mae: 0.755051, mean_q: 1.363234\n",
      "   126/50000: episode: 5, duration: 0.039s, episode steps:   8, steps per second: 203, episode reward:  8.000, mean reward:  1.000 [ 1.000,  1.000], mean action: 0.875 [0.000, 1.000],  loss: 0.061475, mae: 0.852638, mean_q: 1.543159\n",
      "   146/50000: episode: 6, duration: 0.094s, episode steps:  20, steps per second: 212, episode reward: 20.000, mean reward:  1.000 [ 1.000,  1.000], mean action: 0.700 [0.000, 1.000],  loss: 0.058137, mae: 0.903684, mean_q: 1.621816\n",
      "   168/50000: episode: 7, duration: 0.103s, episode steps:  22, steps per second: 213, episode reward: 22.000, mean reward:  1.000 [ 1.000,  1.000], mean action: 0.364 [0.000, 1.000],  loss: 0.047869, mae: 0.970918, mean_q: 1.802453\n",
      "   190/50000: episode: 8, duration: 0.103s, episode steps:  22, steps per second: 213, episode reward: 22.000, mean reward:  1.000 [ 1.000,  1.000], mean action: 0.682 [0.000, 1.000],  loss: 0.054888, mae: 1.059293, mean_q: 1.985995\n",
      "   224/50000: episode: 9, duration: 0.391s, episode steps:  34, steps per second:  87, episode reward: 34.000, mean reward:  1.000 [ 1.000,  1.000], mean action: 0.412 [0.000, 1.000],  loss: 0.067526, mae: 1.148303, mean_q: 2.185516\n",
      "   260/50000: episode: 10, duration: 0.206s, episode steps:  36, steps per second: 174, episode reward: 36.000, mean reward:  1.000 [ 1.000,  1.000], mean action: 0.556 [0.000, 1.000],  loss: 0.076121, mae: 1.276540, mean_q: 2.458984\n",
      "   285/50000: episode: 11, duration: 0.108s, episode steps:  25, steps per second: 231, episode reward: 25.000, mean reward:  1.000 [ 1.000,  1.000], mean action: 0.520 [0.000, 1.000],  loss: 0.084601, mae: 1.391750, mean_q: 2.669760\n",
      "   313/50000: episode: 12, duration: 0.132s, episode steps:  28, steps per second: 212, episode reward: 28.000, mean reward:  1.000 [ 1.000,  1.000], mean action: 0.500 [0.000, 1.000],  loss: 0.072348, mae: 1.482915, mean_q: 2.860909\n",
      "   327/50000: episode: 13, duration: 0.071s, episode steps:  14, steps per second: 197, episode reward: 14.000, mean reward:  1.000 [ 1.000,  1.000], mean action: 0.643 [0.000, 1.000],  loss: 0.077234, mae: 1.576957, mean_q: 3.035033\n",
      "   344/50000: episode: 14, duration: 0.092s, episode steps:  17, steps per second: 185, episode reward: 17.000, mean reward:  1.000 [ 1.000,  1.000], mean action: 0.412 [0.000, 1.000],  loss: 0.073809, mae: 1.638023, mean_q: 3.183359\n",
      "   366/50000: episode: 15, duration: 0.114s, episode steps:  22, steps per second: 193, episode reward: 22.000, mean reward:  1.000 [ 1.000,  1.000], mean action: 0.500 [0.000, 1.000],  loss: 0.100962, mae: 1.720081, mean_q: 3.331363\n",
      "   389/50000: episode: 16, duration: 0.108s, episode steps:  23, steps per second: 214, episode reward: 23.000, mean reward:  1.000 [ 1.000,  1.000], mean action: 0.565 [0.000, 1.000],  loss: 0.129650, mae: 1.828147, mean_q: 3.505299\n",
      "   411/50000: episode: 17, duration: 0.098s, episode steps:  22, steps per second: 224, episode reward: 22.000, mean reward:  1.000 [ 1.000,  1.000], mean action: 0.591 [0.000, 1.000],  loss: 0.081098, mae: 1.899549, mean_q: 3.681888\n",
      "   423/50000: episode: 18, duration: 0.065s, episode steps:  12, steps per second: 183, episode reward: 12.000, mean reward:  1.000 [ 1.000,  1.000], mean action: 0.583 [0.000, 1.000],  loss: 0.129561, mae: 1.969811, mean_q: 3.772351\n",
      "   438/50000: episode: 19, duration: 0.071s, episode steps:  15, steps per second: 211, episode reward: 15.000, mean reward:  1.000 [ 1.000,  1.000], mean action: 0.333 [0.000, 1.000],  loss: 0.151203, mae: 2.029322, mean_q: 3.867847\n",
      "   466/50000: episode: 20, duration: 0.134s, episode steps:  28, steps per second: 209, episode reward: 28.000, mean reward:  1.000 [ 1.000,  1.000], mean action: 0.500 [0.000, 1.000],  loss: 0.158092, mae: 2.135637, mean_q: 4.089518\n",
      "   487/50000: episode: 21, duration: 0.093s, episode steps:  21, steps per second: 226, episode reward: 21.000, mean reward:  1.000 [ 1.000,  1.000], mean action: 0.429 [0.000, 1.000],  loss: 0.151658, mae: 2.233307, mean_q: 4.270915\n",
      "   499/50000: episode: 22, duration: 0.055s, episode steps:  12, steps per second: 217, episode reward: 12.000, mean reward:  1.000 [ 1.000,  1.000], mean action: 0.750 [0.000, 1.000],  loss: 0.229398, mae: 2.285446, mean_q: 4.281061\n",
      "   521/50000: episode: 23, duration: 0.105s, episode steps:  22, steps per second: 210, episode reward: 22.000, mean reward:  1.000 [ 1.000,  1.000], mean action: 0.591 [0.000, 1.000],  loss: 0.199636, mae: 2.375789, mean_q: 4.506244\n",
      "   534/50000: episode: 24, duration: 0.058s, episode steps:  13, steps per second: 223, episode reward: 13.000, mean reward:  1.000 [ 1.000,  1.000], mean action: 0.462 [0.000, 1.000],  loss: 0.183380, mae: 2.417103, mean_q: 4.601980\n",
      "   570/50000: episode: 25, duration: 0.170s, episode steps:  36, steps per second: 212, episode reward: 36.000, mean reward:  1.000 [ 1.000,  1.000], mean action: 0.389 [0.000, 1.000],  loss: 0.218884, mae: 2.514876, mean_q: 4.783827\n",
      "   581/50000: episode: 26, duration: 0.049s, episode steps:  11, steps per second: 223, episode reward: 11.000, mean reward:  1.000 [ 1.000,  1.000], mean action: 0.455 [0.000, 1.000],  loss: 0.242979, mae: 2.607379, mean_q: 4.985749\n",
      "   607/50000: episode: 27, duration: 0.114s, episode steps:  26, steps per second: 228, episode reward: 26.000, mean reward:  1.000 [ 1.000,  1.000], mean action: 0.577 [0.000, 1.000],  loss: 0.193052, mae: 2.694937, mean_q: 5.223654\n",
      "   626/50000: episode: 28, duration: 0.273s, episode steps:  19, steps per second:  70, episode reward: 19.000, mean reward:  1.000 [ 1.000,  1.000], mean action: 0.579 [0.000, 1.000],  loss: 0.203356, mae: 2.744297, mean_q: 5.308703\n",
      "   657/50000: episode: 29, duration: 0.184s, episode steps:  31, steps per second: 168, episode reward: 31.000, mean reward:  1.000 [ 1.000,  1.000], mean action: 0.516 [0.000, 1.000],  loss: 0.230095, mae: 2.877194, mean_q: 5.574362\n",
      "   681/50000: episode: 30, duration: 0.134s, episode steps:  24, steps per second: 179, episode reward: 24.000, mean reward:  1.000 [ 1.000,  1.000], mean action: 0.458 [0.000, 1.000],  loss: 0.304336, mae: 2.976919, mean_q: 5.701422\n",
      "   706/50000: episode: 31, duration: 0.122s, episode steps:  25, steps per second: 206, episode reward: 25.000, mean reward:  1.000 [ 1.000,  1.000], mean action: 0.440 [0.000, 1.000],  loss: 0.315271, mae: 3.087546, mean_q: 5.941504\n",
      "   727/50000: episode: 32, duration: 0.106s, episode steps:  21, steps per second: 199, episode reward: 21.000, mean reward:  1.000 [ 1.000,  1.000], mean action: 0.524 [0.000, 1.000],  loss: 0.285148, mae: 3.177808, mean_q: 6.177447\n",
      "   751/50000: episode: 33, duration: 0.134s, episode steps:  24, steps per second: 179, episode reward: 24.000, mean reward:  1.000 [ 1.000,  1.000], mean action: 0.500 [0.000, 1.000],  loss: 0.327475, mae: 3.266875, mean_q: 6.289175\n",
      "   766/50000: episode: 34, duration: 0.072s, episode steps:  15, steps per second: 208, episode reward: 15.000, mean reward:  1.000 [ 1.000,  1.000], mean action: 0.267 [0.000, 1.000],  loss: 0.271462, mae: 3.323333, mean_q: 6.452685\n",
      "   804/50000: episode: 35, duration: 0.180s, episode steps:  38, steps per second: 211, episode reward: 38.000, mean reward:  1.000 [ 1.000,  1.000], mean action: 0.500 [0.000, 1.000],  loss: 0.368584, mae: 3.478568, mean_q: 6.705991\n",
      "   830/50000: episode: 36, duration: 0.126s, episode steps:  26, steps per second: 206, episode reward: 26.000, mean reward:  1.000 [ 1.000,  1.000], mean action: 0.577 [0.000, 1.000],  loss: 0.264226, mae: 3.575350, mean_q: 6.967868\n",
      "   853/50000: episode: 37, duration: 0.109s, episode steps:  23, steps per second: 210, episode reward: 23.000, mean reward:  1.000 [ 1.000,  1.000], mean action: 0.478 [0.000, 1.000],  loss: 0.387220, mae: 3.731280, mean_q: 7.226199\n",
      "   870/50000: episode: 38, duration: 0.074s, episode steps:  17, steps per second: 230, episode reward: 17.000, mean reward:  1.000 [ 1.000,  1.000], mean action: 0.412 [0.000, 1.000],  loss: 0.504325, mae: 3.778022, mean_q: 7.247189\n"
     ]
    },
    {
     "name": "stdout",
     "output_type": "stream",
     "text": [
      "   909/50000: episode: 39, duration: 0.180s, episode steps:  39, steps per second: 217, episode reward: 39.000, mean reward:  1.000 [ 1.000,  1.000], mean action: 0.513 [0.000, 1.000],  loss: 0.443329, mae: 3.863922, mean_q: 7.412047\n",
      "   960/50000: episode: 40, duration: 0.241s, episode steps:  51, steps per second: 212, episode reward: 51.000, mean reward:  1.000 [ 1.000,  1.000], mean action: 0.451 [0.000, 1.000],  loss: 0.468748, mae: 4.041516, mean_q: 7.780587\n",
      "   979/50000: episode: 41, duration: 0.082s, episode steps:  19, steps per second: 230, episode reward: 19.000, mean reward:  1.000 [ 1.000,  1.000], mean action: 0.421 [0.000, 1.000],  loss: 0.451813, mae: 4.214100, mean_q: 8.134248\n",
      "   993/50000: episode: 42, duration: 0.062s, episode steps:  14, steps per second: 224, episode reward: 14.000, mean reward:  1.000 [ 1.000,  1.000], mean action: 0.429 [0.000, 1.000],  loss: 0.349115, mae: 4.254445, mean_q: 8.283470\n",
      "  1012/50000: episode: 43, duration: 0.101s, episode steps:  19, steps per second: 188, episode reward: 19.000, mean reward:  1.000 [ 1.000,  1.000], mean action: 0.632 [0.000, 1.000],  loss: 0.390071, mae: 4.332585, mean_q: 8.427299\n",
      "  1035/50000: episode: 44, duration: 0.103s, episode steps:  23, steps per second: 222, episode reward: 23.000, mean reward:  1.000 [ 1.000,  1.000], mean action: 0.522 [0.000, 1.000],  loss: 0.461362, mae: 4.375252, mean_q: 8.489063\n",
      "  1053/50000: episode: 45, duration: 0.079s, episode steps:  18, steps per second: 227, episode reward: 18.000, mean reward:  1.000 [ 1.000,  1.000], mean action: 0.500 [0.000, 1.000],  loss: 0.540847, mae: 4.439101, mean_q: 8.606777\n",
      "  1120/50000: episode: 46, duration: 0.304s, episode steps:  67, steps per second: 220, episode reward: 67.000, mean reward:  1.000 [ 1.000,  1.000], mean action: 0.493 [0.000, 1.000],  loss: 0.491631, mae: 4.581181, mean_q: 8.889964\n",
      "  1148/50000: episode: 47, duration: 0.127s, episode steps:  28, steps per second: 221, episode reward: 28.000, mean reward:  1.000 [ 1.000,  1.000], mean action: 0.500 [0.000, 1.000],  loss: 0.475686, mae: 4.802475, mean_q: 9.394338\n",
      "  1186/50000: episode: 48, duration: 0.167s, episode steps:  38, steps per second: 228, episode reward: 38.000, mean reward:  1.000 [ 1.000,  1.000], mean action: 0.500 [0.000, 1.000],  loss: 0.463195, mae: 4.864567, mean_q: 9.491435\n",
      "  1215/50000: episode: 49, duration: 0.134s, episode steps:  29, steps per second: 217, episode reward: 29.000, mean reward:  1.000 [ 1.000,  1.000], mean action: 0.517 [0.000, 1.000],  loss: 0.443847, mae: 4.996323, mean_q: 9.770547\n",
      "  1234/50000: episode: 50, duration: 0.084s, episode steps:  19, steps per second: 225, episode reward: 19.000, mean reward:  1.000 [ 1.000,  1.000], mean action: 0.474 [0.000, 1.000],  loss: 0.474666, mae: 5.175488, mean_q: 10.186876\n",
      "  1325/50000: episode: 51, duration: 0.419s, episode steps:  91, steps per second: 217, episode reward: 91.000, mean reward:  1.000 [ 1.000,  1.000], mean action: 0.527 [0.000, 1.000],  loss: 0.575761, mae: 5.284164, mean_q: 10.354851\n",
      "  1365/50000: episode: 52, duration: 0.175s, episode steps:  40, steps per second: 229, episode reward: 40.000, mean reward:  1.000 [ 1.000,  1.000], mean action: 0.475 [0.000, 1.000],  loss: 0.555199, mae: 5.499677, mean_q: 10.830666\n",
      "  1384/50000: episode: 53, duration: 0.083s, episode steps:  19, steps per second: 228, episode reward: 19.000, mean reward:  1.000 [ 1.000,  1.000], mean action: 0.474 [0.000, 1.000],  loss: 0.658537, mae: 5.616024, mean_q: 11.008371\n",
      "  1437/50000: episode: 54, duration: 0.227s, episode steps:  53, steps per second: 234, episode reward: 53.000, mean reward:  1.000 [ 1.000,  1.000], mean action: 0.509 [0.000, 1.000],  loss: 0.541630, mae: 5.748125, mean_q: 11.279130\n",
      "  1511/50000: episode: 55, duration: 0.331s, episode steps:  74, steps per second: 224, episode reward: 74.000, mean reward:  1.000 [ 1.000,  1.000], mean action: 0.446 [0.000, 1.000],  loss: 0.660004, mae: 5.973403, mean_q: 11.748074\n",
      "  1609/50000: episode: 56, duration: 0.431s, episode steps:  98, steps per second: 227, episode reward: 98.000, mean reward:  1.000 [ 1.000,  1.000], mean action: 0.480 [0.000, 1.000],  loss: 0.679328, mae: 6.266026, mean_q: 12.362797\n",
      "  1673/50000: episode: 57, duration: 0.287s, episode steps:  64, steps per second: 223, episode reward: 64.000, mean reward:  1.000 [ 1.000,  1.000], mean action: 0.453 [0.000, 1.000],  loss: 0.577580, mae: 6.590988, mean_q: 13.126726\n",
      "  1765/50000: episode: 58, duration: 0.451s, episode steps:  92, steps per second: 204, episode reward: 92.000, mean reward:  1.000 [ 1.000,  1.000], mean action: 0.522 [0.000, 1.000],  loss: 0.722654, mae: 6.831592, mean_q: 13.630050\n",
      "  1840/50000: episode: 59, duration: 0.332s, episode steps:  75, steps per second: 226, episode reward: 75.000, mean reward:  1.000 [ 1.000,  1.000], mean action: 0.493 [0.000, 1.000],  loss: 0.667627, mae: 7.201839, mean_q: 14.479767\n",
      "  2010/50000: episode: 60, duration: 0.797s, episode steps: 170, steps per second: 213, episode reward: 170.000, mean reward:  1.000 [ 1.000,  1.000], mean action: 0.524 [0.000, 1.000],  loss: 0.672195, mae: 7.726797, mean_q: 15.690671\n",
      "  2210/50000: episode: 61, duration: 0.949s, episode steps: 200, steps per second: 211, episode reward: 200.000, mean reward:  1.000 [ 1.000,  1.000], mean action: 0.505 [0.000, 1.000],  loss: 0.860105, mae: 8.581403, mean_q: 17.511560\n",
      "  2322/50000: episode: 62, duration: 0.551s, episode steps: 112, steps per second: 203, episode reward: 112.000, mean reward:  1.000 [ 1.000,  1.000], mean action: 0.482 [0.000, 1.000],  loss: 1.047044, mae: 9.408577, mean_q: 19.185686\n",
      "  2431/50000: episode: 63, duration: 0.501s, episode steps: 109, steps per second: 217, episode reward: 109.000, mean reward:  1.000 [ 1.000,  1.000], mean action: 0.477 [0.000, 1.000],  loss: 0.984362, mae: 9.876321, mean_q: 20.281271\n",
      "  2533/50000: episode: 64, duration: 0.483s, episode steps: 102, steps per second: 211, episode reward: 102.000, mean reward:  1.000 [ 1.000,  1.000], mean action: 0.500 [0.000, 1.000],  loss: 1.210821, mae: 10.340745, mean_q: 21.125130\n",
      "  2619/50000: episode: 65, duration: 0.863s, episode steps:  86, steps per second: 100, episode reward: 86.000, mean reward:  1.000 [ 1.000,  1.000], mean action: 0.500 [0.000, 1.000],  loss: 1.530226, mae: 10.647571, mean_q: 21.729086\n",
      "  2786/50000: episode: 66, duration: 0.756s, episode steps: 167, steps per second: 221, episode reward: 167.000, mean reward:  1.000 [ 1.000,  1.000], mean action: 0.497 [0.000, 1.000],  loss: 1.398940, mae: 11.338437, mean_q: 23.237381\n",
      "  2871/50000: episode: 67, duration: 0.372s, episode steps:  85, steps per second: 228, episode reward: 85.000, mean reward:  1.000 [ 1.000,  1.000], mean action: 0.494 [0.000, 1.000],  loss: 2.331857, mae: 11.821200, mean_q: 24.010799\n",
      "  3059/50000: episode: 68, duration: 0.884s, episode steps: 188, steps per second: 213, episode reward: 188.000, mean reward:  1.000 [ 1.000,  1.000], mean action: 0.489 [0.000, 1.000],  loss: 1.907920, mae: 12.476025, mean_q: 25.516930\n",
      "  3179/50000: episode: 69, duration: 0.550s, episode steps: 120, steps per second: 218, episode reward: 120.000, mean reward:  1.000 [ 1.000,  1.000], mean action: 0.492 [0.000, 1.000],  loss: 1.764296, mae: 13.158530, mean_q: 26.975634\n",
      "  3379/50000: episode: 70, duration: 1.048s, episode steps: 200, steps per second: 191, episode reward: 200.000, mean reward:  1.000 [ 1.000,  1.000], mean action: 0.500 [0.000, 1.000],  loss: 1.801088, mae: 13.982990, mean_q: 28.651237\n",
      "  3498/50000: episode: 71, duration: 0.538s, episode steps: 119, steps per second: 221, episode reward: 119.000, mean reward:  1.000 [ 1.000,  1.000], mean action: 0.538 [0.000, 1.000],  loss: 2.617573, mae: 14.654925, mean_q: 29.972654\n",
      "  3645/50000: episode: 72, duration: 0.640s, episode steps: 147, steps per second: 230, episode reward: 147.000, mean reward:  1.000 [ 1.000,  1.000], mean action: 0.524 [0.000, 1.000],  loss: 2.152157, mae: 15.279467, mean_q: 31.402523\n",
      "  3798/50000: episode: 73, duration: 0.695s, episode steps: 153, steps per second: 220, episode reward: 153.000, mean reward:  1.000 [ 1.000,  1.000], mean action: 0.490 [0.000, 1.000],  loss: 2.329015, mae: 16.079702, mean_q: 32.994579\n"
     ]
    },
    {
     "name": "stdout",
     "output_type": "stream",
     "text": [
      "  3944/50000: episode: 74, duration: 0.682s, episode steps: 146, steps per second: 214, episode reward: 146.000, mean reward:  1.000 [ 1.000,  1.000], mean action: 0.534 [0.000, 1.000],  loss: 3.041062, mae: 16.640734, mean_q: 33.997326\n",
      "  4120/50000: episode: 75, duration: 0.806s, episode steps: 176, steps per second: 218, episode reward: 176.000, mean reward:  1.000 [ 1.000,  1.000], mean action: 0.528 [0.000, 1.000],  loss: 2.687468, mae: 17.326159, mean_q: 35.397049\n",
      "  4320/50000: episode: 76, duration: 0.900s, episode steps: 200, steps per second: 222, episode reward: 200.000, mean reward:  1.000 [ 1.000,  1.000], mean action: 0.520 [0.000, 1.000],  loss: 2.802815, mae: 18.093483, mean_q: 37.111401\n",
      "  4502/50000: episode: 77, duration: 0.830s, episode steps: 182, steps per second: 219, episode reward: 182.000, mean reward:  1.000 [ 1.000,  1.000], mean action: 0.478 [0.000, 1.000],  loss: 2.779619, mae: 19.051878, mean_q: 38.973263\n",
      "  4664/50000: episode: 78, duration: 0.713s, episode steps: 162, steps per second: 227, episode reward: 162.000, mean reward:  1.000 [ 1.000,  1.000], mean action: 0.519 [0.000, 1.000],  loss: 3.873036, mae: 19.814779, mean_q: 40.477436\n",
      "  4864/50000: episode: 79, duration: 0.984s, episode steps: 200, steps per second: 203, episode reward: 200.000, mean reward:  1.000 [ 1.000,  1.000], mean action: 0.485 [0.000, 1.000],  loss: 2.616044, mae: 20.507858, mean_q: 41.968727\n",
      "  5043/50000: episode: 80, duration: 0.754s, episode steps: 179, steps per second: 238, episode reward: 179.000, mean reward:  1.000 [ 1.000,  1.000], mean action: 0.480 [0.000, 1.000],  loss: 2.945693, mae: 21.235764, mean_q: 43.300156\n",
      "  5227/50000: episode: 81, duration: 0.819s, episode steps: 184, steps per second: 225, episode reward: 184.000, mean reward:  1.000 [ 1.000,  1.000], mean action: 0.522 [0.000, 1.000],  loss: 4.040389, mae: 21.957924, mean_q: 44.745365\n",
      "  5425/50000: episode: 82, duration: 0.870s, episode steps: 198, steps per second: 228, episode reward: 198.000, mean reward:  1.000 [ 1.000,  1.000], mean action: 0.475 [0.000, 1.000],  loss: 2.827637, mae: 22.581266, mean_q: 46.224293\n",
      "  5625/50000: episode: 83, duration: 0.954s, episode steps: 200, steps per second: 210, episode reward: 200.000, mean reward:  1.000 [ 1.000,  1.000], mean action: 0.495 [0.000, 1.000],  loss: 3.120869, mae: 23.417879, mean_q: 47.818390\n",
      "  5825/50000: episode: 84, duration: 0.918s, episode steps: 200, steps per second: 218, episode reward: 200.000, mean reward:  1.000 [ 1.000,  1.000], mean action: 0.485 [0.000, 1.000],  loss: 3.794233, mae: 24.236694, mean_q: 49.355026\n",
      "  6025/50000: episode: 85, duration: 0.854s, episode steps: 200, steps per second: 234, episode reward: 200.000, mean reward:  1.000 [ 1.000,  1.000], mean action: 0.525 [0.000, 1.000],  loss: 3.529348, mae: 24.907682, mean_q: 50.861595\n",
      "  6225/50000: episode: 86, duration: 0.894s, episode steps: 200, steps per second: 224, episode reward: 200.000, mean reward:  1.000 [ 1.000,  1.000], mean action: 0.500 [0.000, 1.000],  loss: 5.239594, mae: 25.737305, mean_q: 52.204048\n",
      "  6425/50000: episode: 87, duration: 0.896s, episode steps: 200, steps per second: 223, episode reward: 200.000, mean reward:  1.000 [ 1.000,  1.000], mean action: 0.470 [0.000, 1.000],  loss: 3.785934, mae: 26.621126, mean_q: 54.163136\n",
      "  6625/50000: episode: 88, duration: 0.974s, episode steps: 200, steps per second: 205, episode reward: 200.000, mean reward:  1.000 [ 1.000,  1.000], mean action: 0.475 [0.000, 1.000],  loss: 5.346673, mae: 27.227636, mean_q: 55.306786\n",
      "  6825/50000: episode: 89, duration: 1.060s, episode steps: 200, steps per second: 189, episode reward: 200.000, mean reward:  1.000 [ 1.000,  1.000], mean action: 0.510 [0.000, 1.000],  loss: 3.869595, mae: 27.652622, mean_q: 56.218407\n",
      "  7025/50000: episode: 90, duration: 1.012s, episode steps: 200, steps per second: 198, episode reward: 200.000, mean reward:  1.000 [ 1.000,  1.000], mean action: 0.485 [0.000, 1.000],  loss: 5.109676, mae: 28.357012, mean_q: 57.696239\n",
      "  7225/50000: episode: 91, duration: 0.997s, episode steps: 200, steps per second: 201, episode reward: 200.000, mean reward:  1.000 [ 1.000,  1.000], mean action: 0.480 [0.000, 1.000],  loss: 5.187850, mae: 29.015352, mean_q: 59.085346\n",
      "  7425/50000: episode: 92, duration: 0.911s, episode steps: 200, steps per second: 220, episode reward: 200.000, mean reward:  1.000 [ 1.000,  1.000], mean action: 0.485 [0.000, 1.000],  loss: 6.829089, mae: 29.471830, mean_q: 59.861473\n",
      "  7625/50000: episode: 93, duration: 0.977s, episode steps: 200, steps per second: 205, episode reward: 200.000, mean reward:  1.000 [ 1.000,  1.000], mean action: 0.485 [0.000, 1.000],  loss: 5.643305, mae: 30.357428, mean_q: 61.614426\n",
      "  7825/50000: episode: 94, duration: 1.095s, episode steps: 200, steps per second: 183, episode reward: 200.000, mean reward:  1.000 [ 1.000,  1.000], mean action: 0.485 [0.000, 1.000],  loss: 5.224876, mae: 30.791336, mean_q: 62.566334\n",
      "  8014/50000: episode: 95, duration: 0.960s, episode steps: 189, steps per second: 197, episode reward: 189.000, mean reward:  1.000 [ 1.000,  1.000], mean action: 0.524 [0.000, 1.000],  loss: 4.127182, mae: 31.406029, mean_q: 63.856121\n",
      "  8214/50000: episode: 96, duration: 0.981s, episode steps: 200, steps per second: 204, episode reward: 200.000, mean reward:  1.000 [ 1.000,  1.000], mean action: 0.495 [0.000, 1.000],  loss: 5.242079, mae: 31.946692, mean_q: 64.896202\n",
      "  8414/50000: episode: 97, duration: 0.961s, episode steps: 200, steps per second: 208, episode reward: 200.000, mean reward:  1.000 [ 1.000,  1.000], mean action: 0.475 [0.000, 1.000],  loss: 4.838476, mae: 32.489750, mean_q: 66.039032\n",
      "  8614/50000: episode: 98, duration: 0.922s, episode steps: 200, steps per second: 217, episode reward: 200.000, mean reward:  1.000 [ 1.000,  1.000], mean action: 0.515 [0.000, 1.000],  loss: 5.101021, mae: 33.159821, mean_q: 67.419640\n",
      "  8814/50000: episode: 99, duration: 0.936s, episode steps: 200, steps per second: 214, episode reward: 200.000, mean reward:  1.000 [ 1.000,  1.000], mean action: 0.520 [0.000, 1.000],  loss: 4.981615, mae: 34.020206, mean_q: 69.057350\n",
      "  9014/50000: episode: 100, duration: 0.994s, episode steps: 200, steps per second: 201, episode reward: 200.000, mean reward:  1.000 [ 1.000,  1.000], mean action: 0.485 [0.000, 1.000],  loss: 4.941171, mae: 34.155113, mean_q: 69.411720\n",
      "  9214/50000: episode: 101, duration: 0.919s, episode steps: 200, steps per second: 218, episode reward: 200.000, mean reward:  1.000 [ 1.000,  1.000], mean action: 0.475 [0.000, 1.000],  loss: 7.334924, mae: 34.750645, mean_q: 70.477638\n",
      "  9414/50000: episode: 102, duration: 1.010s, episode steps: 200, steps per second: 198, episode reward: 200.000, mean reward:  1.000 [ 1.000,  1.000], mean action: 0.485 [0.000, 1.000],  loss: 6.512444, mae: 35.444122, mean_q: 71.867477\n",
      "  9614/50000: episode: 103, duration: 1.065s, episode steps: 200, steps per second: 188, episode reward: 200.000, mean reward:  1.000 [ 1.000,  1.000], mean action: 0.495 [0.000, 1.000],  loss: 6.662807, mae: 35.922035, mean_q: 72.783943\n",
      "  9814/50000: episode: 104, duration: 1.012s, episode steps: 200, steps per second: 198, episode reward: 200.000, mean reward:  1.000 [ 1.000,  1.000], mean action: 0.500 [0.000, 1.000],  loss: 9.648979, mae: 36.227486, mean_q: 73.357880\n",
      " 10014/50000: episode: 105, duration: 0.912s, episode steps: 200, steps per second: 219, episode reward: 200.000, mean reward:  1.000 [ 1.000,  1.000], mean action: 0.495 [0.000, 1.000],  loss: 9.211919, mae: 36.482880, mean_q: 73.854218\n",
      " 10214/50000: episode: 106, duration: 0.920s, episode steps: 200, steps per second: 217, episode reward: 200.000, mean reward:  1.000 [ 1.000,  1.000], mean action: 0.490 [0.000, 1.000],  loss: 6.310285, mae: 37.004173, mean_q: 74.990921\n",
      " 10414/50000: episode: 107, duration: 0.897s, episode steps: 200, steps per second: 223, episode reward: 200.000, mean reward:  1.000 [ 1.000,  1.000], mean action: 0.505 [0.000, 1.000],  loss: 6.645946, mae: 37.459408, mean_q: 75.927116\n",
      " 10614/50000: episode: 108, duration: 0.883s, episode steps: 200, steps per second: 227, episode reward: 200.000, mean reward:  1.000 [ 1.000,  1.000], mean action: 0.520 [0.000, 1.000],  loss: 9.051386, mae: 38.138439, mean_q: 77.151955\n"
     ]
    },
    {
     "name": "stdout",
     "output_type": "stream",
     "text": [
      " 10814/50000: episode: 109, duration: 0.853s, episode steps: 200, steps per second: 234, episode reward: 200.000, mean reward:  1.000 [ 1.000,  1.000], mean action: 0.510 [0.000, 1.000],  loss: 4.620298, mae: 38.537010, mean_q: 78.208405\n",
      " 11014/50000: episode: 110, duration: 0.856s, episode steps: 200, steps per second: 234, episode reward: 200.000, mean reward:  1.000 [ 1.000,  1.000], mean action: 0.500 [0.000, 1.000],  loss: 6.973832, mae: 38.902481, mean_q: 78.721306\n",
      " 11214/50000: episode: 111, duration: 0.908s, episode steps: 200, steps per second: 220, episode reward: 200.000, mean reward:  1.000 [ 1.000,  1.000], mean action: 0.490 [0.000, 1.000],  loss: 7.685471, mae: 39.032612, mean_q: 79.070557\n",
      " 11414/50000: episode: 112, duration: 0.880s, episode steps: 200, steps per second: 227, episode reward: 200.000, mean reward:  1.000 [ 1.000,  1.000], mean action: 0.490 [0.000, 1.000],  loss: 7.963250, mae: 39.842098, mean_q: 80.659767\n",
      " 11589/50000: episode: 113, duration: 0.813s, episode steps: 175, steps per second: 215, episode reward: 175.000, mean reward:  1.000 [ 1.000,  1.000], mean action: 0.520 [0.000, 1.000],  loss: 7.862350, mae: 40.104942, mean_q: 81.221169\n",
      " 11789/50000: episode: 114, duration: 1.020s, episode steps: 200, steps per second: 196, episode reward: 200.000, mean reward:  1.000 [ 1.000,  1.000], mean action: 0.495 [0.000, 1.000],  loss: 9.220208, mae: 40.434513, mean_q: 81.746681\n",
      " 11986/50000: episode: 115, duration: 1.038s, episode steps: 197, steps per second: 190, episode reward: 197.000, mean reward:  1.000 [ 1.000,  1.000], mean action: 0.518 [0.000, 1.000],  loss: 7.079121, mae: 40.613976, mean_q: 82.237564\n",
      " 12180/50000: episode: 116, duration: 1.023s, episode steps: 194, steps per second: 190, episode reward: 194.000, mean reward:  1.000 [ 1.000,  1.000], mean action: 0.515 [0.000, 1.000],  loss: 7.858309, mae: 40.586201, mean_q: 82.178925\n",
      " 12380/50000: episode: 117, duration: 1.010s, episode steps: 200, steps per second: 198, episode reward: 200.000, mean reward:  1.000 [ 1.000,  1.000], mean action: 0.490 [0.000, 1.000],  loss: 7.795549, mae: 40.853863, mean_q: 82.708405\n",
      " 12580/50000: episode: 118, duration: 0.900s, episode steps: 200, steps per second: 222, episode reward: 200.000, mean reward:  1.000 [ 1.000,  1.000], mean action: 0.480 [0.000, 1.000],  loss: 7.731630, mae: 41.261368, mean_q: 83.569412\n",
      " 12780/50000: episode: 119, duration: 0.956s, episode steps: 200, steps per second: 209, episode reward: 200.000, mean reward:  1.000 [ 1.000,  1.000], mean action: 0.480 [0.000, 1.000],  loss: 9.133955, mae: 41.454960, mean_q: 83.786095\n",
      " 12980/50000: episode: 120, duration: 0.938s, episode steps: 200, steps per second: 213, episode reward: 200.000, mean reward:  1.000 [ 1.000,  1.000], mean action: 0.485 [0.000, 1.000],  loss: 9.152571, mae: 41.807709, mean_q: 84.462082\n",
      " 13180/50000: episode: 121, duration: 0.953s, episode steps: 200, steps per second: 210, episode reward: 200.000, mean reward:  1.000 [ 1.000,  1.000], mean action: 0.480 [0.000, 1.000],  loss: 9.026697, mae: 41.867657, mean_q: 84.641327\n",
      " 13351/50000: episode: 122, duration: 0.784s, episode steps: 171, steps per second: 218, episode reward: 171.000, mean reward:  1.000 [ 1.000,  1.000], mean action: 0.515 [0.000, 1.000],  loss: 7.463759, mae: 42.247105, mean_q: 85.592033\n",
      " 13551/50000: episode: 123, duration: 0.970s, episode steps: 200, steps per second: 206, episode reward: 200.000, mean reward:  1.000 [ 1.000,  1.000], mean action: 0.480 [0.000, 1.000],  loss: 7.673978, mae: 42.179249, mean_q: 85.342041\n",
      " 13751/50000: episode: 124, duration: 1.005s, episode steps: 200, steps per second: 199, episode reward: 200.000, mean reward:  1.000 [ 1.000,  1.000], mean action: 0.515 [0.000, 1.000],  loss: 9.361469, mae: 42.322456, mean_q: 85.680275\n",
      " 13951/50000: episode: 125, duration: 0.968s, episode steps: 200, steps per second: 207, episode reward: 200.000, mean reward:  1.000 [ 1.000,  1.000], mean action: 0.510 [0.000, 1.000],  loss: 8.564859, mae: 42.782238, mean_q: 86.542381\n",
      " 14151/50000: episode: 126, duration: 1.967s, episode steps: 200, steps per second: 102, episode reward: 200.000, mean reward:  1.000 [ 1.000,  1.000], mean action: 0.480 [0.000, 1.000],  loss: 9.808311, mae: 42.963715, mean_q: 86.925217\n",
      " 14351/50000: episode: 127, duration: 0.909s, episode steps: 200, steps per second: 220, episode reward: 200.000, mean reward:  1.000 [ 1.000,  1.000], mean action: 0.515 [0.000, 1.000],  loss: 7.692677, mae: 43.228146, mean_q: 87.417305\n",
      " 14551/50000: episode: 128, duration: 0.974s, episode steps: 200, steps per second: 205, episode reward: 200.000, mean reward:  1.000 [ 1.000,  1.000], mean action: 0.510 [0.000, 1.000],  loss: 8.206740, mae: 43.053028, mean_q: 87.058250\n",
      " 14751/50000: episode: 129, duration: 0.933s, episode steps: 200, steps per second: 214, episode reward: 200.000, mean reward:  1.000 [ 1.000,  1.000], mean action: 0.510 [0.000, 1.000],  loss: 7.482813, mae: 44.009613, mean_q: 89.005653\n",
      " 14951/50000: episode: 130, duration: 0.990s, episode steps: 200, steps per second: 202, episode reward: 200.000, mean reward:  1.000 [ 1.000,  1.000], mean action: 0.515 [0.000, 1.000],  loss: 9.449059, mae: 43.746788, mean_q: 88.408806\n",
      " 15151/50000: episode: 131, duration: 0.938s, episode steps: 200, steps per second: 213, episode reward: 200.000, mean reward:  1.000 [ 1.000,  1.000], mean action: 0.495 [0.000, 1.000],  loss: 9.187879, mae: 44.227482, mean_q: 89.413712\n",
      " 15326/50000: episode: 132, duration: 0.838s, episode steps: 175, steps per second: 209, episode reward: 175.000, mean reward:  1.000 [ 1.000,  1.000], mean action: 0.503 [0.000, 1.000],  loss: 5.572694, mae: 44.221329, mean_q: 89.539719\n",
      " 15518/50000: episode: 133, duration: 0.955s, episode steps: 192, steps per second: 201, episode reward: 192.000, mean reward:  1.000 [ 1.000,  1.000], mean action: 0.505 [0.000, 1.000],  loss: 7.477720, mae: 44.277679, mean_q: 89.501160\n",
      " 15718/50000: episode: 134, duration: 1.006s, episode steps: 200, steps per second: 199, episode reward: 200.000, mean reward:  1.000 [ 1.000,  1.000], mean action: 0.505 [0.000, 1.000],  loss: 5.502484, mae: 44.767101, mean_q: 90.499550\n",
      " 15918/50000: episode: 135, duration: 1.026s, episode steps: 200, steps per second: 195, episode reward: 200.000, mean reward:  1.000 [ 1.000,  1.000], mean action: 0.505 [0.000, 1.000],  loss: 7.749327, mae: 45.461308, mean_q: 91.819962\n",
      " 16118/50000: episode: 136, duration: 1.027s, episode steps: 200, steps per second: 195, episode reward: 200.000, mean reward:  1.000 [ 1.000,  1.000], mean action: 0.510 [0.000, 1.000],  loss: 8.251116, mae: 45.401699, mean_q: 91.749557\n",
      " 16318/50000: episode: 137, duration: 0.988s, episode steps: 200, steps per second: 202, episode reward: 200.000, mean reward:  1.000 [ 1.000,  1.000], mean action: 0.510 [0.000, 1.000],  loss: 10.833202, mae: 45.770546, mean_q: 92.453575\n",
      " 16518/50000: episode: 138, duration: 0.933s, episode steps: 200, steps per second: 214, episode reward: 200.000, mean reward:  1.000 [ 1.000,  1.000], mean action: 0.505 [0.000, 1.000],  loss: 12.403926, mae: 45.857254, mean_q: 92.402008\n",
      " 16718/50000: episode: 139, duration: 0.956s, episode steps: 200, steps per second: 209, episode reward: 200.000, mean reward:  1.000 [ 1.000,  1.000], mean action: 0.505 [0.000, 1.000],  loss: 11.047650, mae: 46.414463, mean_q: 93.491409\n",
      " 16918/50000: episode: 140, duration: 0.886s, episode steps: 200, steps per second: 226, episode reward: 200.000, mean reward:  1.000 [ 1.000,  1.000], mean action: 0.500 [0.000, 1.000],  loss: 9.973187, mae: 46.337765, mean_q: 93.509315\n",
      " 17118/50000: episode: 141, duration: 0.994s, episode steps: 200, steps per second: 201, episode reward: 200.000, mean reward:  1.000 [ 1.000,  1.000], mean action: 0.505 [0.000, 1.000],  loss: 10.258052, mae: 46.531410, mean_q: 94.017113\n",
      " 17318/50000: episode: 142, duration: 0.950s, episode steps: 200, steps per second: 210, episode reward: 200.000, mean reward:  1.000 [ 1.000,  1.000], mean action: 0.505 [0.000, 1.000],  loss: 9.641768, mae: 47.194286, mean_q: 95.324730\n",
      " 17516/50000: episode: 143, duration: 0.890s, episode steps: 198, steps per second: 222, episode reward: 198.000, mean reward:  1.000 [ 1.000,  1.000], mean action: 0.520 [0.000, 1.000],  loss: 9.598778, mae: 47.184132, mean_q: 95.326668\n"
     ]
    },
    {
     "name": "stdout",
     "output_type": "stream",
     "text": [
      " 17716/50000: episode: 144, duration: 0.906s, episode steps: 200, steps per second: 221, episode reward: 200.000, mean reward:  1.000 [ 1.000,  1.000], mean action: 0.505 [0.000, 1.000],  loss: 10.550279, mae: 47.437767, mean_q: 95.755974\n",
      " 17916/50000: episode: 145, duration: 0.977s, episode steps: 200, steps per second: 205, episode reward: 200.000, mean reward:  1.000 [ 1.000,  1.000], mean action: 0.510 [0.000, 1.000],  loss: 12.362832, mae: 47.431183, mean_q: 95.690857\n",
      " 18116/50000: episode: 146, duration: 0.995s, episode steps: 200, steps per second: 201, episode reward: 200.000, mean reward:  1.000 [ 1.000,  1.000], mean action: 0.500 [0.000, 1.000],  loss: 12.924763, mae: 47.988945, mean_q: 96.793770\n",
      " 18316/50000: episode: 147, duration: 0.899s, episode steps: 200, steps per second: 223, episode reward: 200.000, mean reward:  1.000 [ 1.000,  1.000], mean action: 0.495 [0.000, 1.000],  loss: 12.110049, mae: 48.431427, mean_q: 97.700409\n",
      " 18510/50000: episode: 148, duration: 0.897s, episode steps: 194, steps per second: 216, episode reward: 194.000, mean reward:  1.000 [ 1.000,  1.000], mean action: 0.526 [0.000, 1.000],  loss: 12.945371, mae: 49.023598, mean_q: 98.873367\n",
      " 18710/50000: episode: 149, duration: 1.067s, episode steps: 200, steps per second: 187, episode reward: 200.000, mean reward:  1.000 [ 1.000,  1.000], mean action: 0.510 [0.000, 1.000],  loss: 12.966106, mae: 48.866222, mean_q: 98.519356\n",
      " 18910/50000: episode: 150, duration: 0.942s, episode steps: 200, steps per second: 212, episode reward: 200.000, mean reward:  1.000 [ 1.000,  1.000], mean action: 0.510 [0.000, 1.000],  loss: 11.075945, mae: 49.207920, mean_q: 99.216095\n",
      " 19110/50000: episode: 151, duration: 1.026s, episode steps: 200, steps per second: 195, episode reward: 200.000, mean reward:  1.000 [ 1.000,  1.000], mean action: 0.520 [0.000, 1.000],  loss: 13.884565, mae: 49.321583, mean_q: 99.332031\n",
      " 19310/50000: episode: 152, duration: 0.965s, episode steps: 200, steps per second: 207, episode reward: 200.000, mean reward:  1.000 [ 1.000,  1.000], mean action: 0.510 [0.000, 1.000],  loss: 16.893187, mae: 49.726994, mean_q: 100.125565\n",
      " 19510/50000: episode: 153, duration: 0.954s, episode steps: 200, steps per second: 210, episode reward: 200.000, mean reward:  1.000 [ 1.000,  1.000], mean action: 0.515 [0.000, 1.000],  loss: 16.528261, mae: 49.666744, mean_q: 100.120560\n",
      " 19710/50000: episode: 154, duration: 0.919s, episode steps: 200, steps per second: 218, episode reward: 200.000, mean reward:  1.000 [ 1.000,  1.000], mean action: 0.520 [0.000, 1.000],  loss: 10.313712, mae: 50.142746, mean_q: 101.090355\n",
      " 19910/50000: episode: 155, duration: 0.959s, episode steps: 200, steps per second: 209, episode reward: 200.000, mean reward:  1.000 [ 1.000,  1.000], mean action: 0.515 [0.000, 1.000],  loss: 16.176847, mae: 50.287872, mean_q: 101.234436\n",
      " 20110/50000: episode: 156, duration: 1.001s, episode steps: 200, steps per second: 200, episode reward: 200.000, mean reward:  1.000 [ 1.000,  1.000], mean action: 0.510 [0.000, 1.000],  loss: 15.155588, mae: 50.427528, mean_q: 101.480080\n",
      " 20310/50000: episode: 157, duration: 0.869s, episode steps: 200, steps per second: 230, episode reward: 200.000, mean reward:  1.000 [ 1.000,  1.000], mean action: 0.515 [0.000, 1.000],  loss: 14.096034, mae: 50.535782, mean_q: 101.894173\n",
      " 20510/50000: episode: 158, duration: 0.907s, episode steps: 200, steps per second: 221, episode reward: 200.000, mean reward:  1.000 [ 1.000,  1.000], mean action: 0.510 [0.000, 1.000],  loss: 12.792947, mae: 51.270336, mean_q: 103.314110\n",
      " 20710/50000: episode: 159, duration: 0.936s, episode steps: 200, steps per second: 214, episode reward: 200.000, mean reward:  1.000 [ 1.000,  1.000], mean action: 0.525 [0.000, 1.000],  loss: 14.629480, mae: 51.308281, mean_q: 103.176788\n",
      " 20910/50000: episode: 160, duration: 1.063s, episode steps: 200, steps per second: 188, episode reward: 200.000, mean reward:  1.000 [ 1.000,  1.000], mean action: 0.515 [0.000, 1.000],  loss: 17.518047, mae: 51.292740, mean_q: 103.148582\n",
      " 21086/50000: episode: 161, duration: 0.999s, episode steps: 176, steps per second: 176, episode reward: 176.000, mean reward:  1.000 [ 1.000,  1.000], mean action: 0.534 [0.000, 1.000],  loss: 16.269337, mae: 51.099411, mean_q: 102.952179\n",
      " 21261/50000: episode: 162, duration: 0.859s, episode steps: 175, steps per second: 204, episode reward: 175.000, mean reward:  1.000 [ 1.000,  1.000], mean action: 0.520 [0.000, 1.000],  loss: 16.905178, mae: 51.732086, mean_q: 104.006081\n",
      " 21461/50000: episode: 163, duration: 1.038s, episode steps: 200, steps per second: 193, episode reward: 200.000, mean reward:  1.000 [ 1.000,  1.000], mean action: 0.520 [0.000, 1.000],  loss: 20.836628, mae: 51.387768, mean_q: 103.442833\n",
      " 21642/50000: episode: 164, duration: 1.045s, episode steps: 181, steps per second: 173, episode reward: 181.000, mean reward:  1.000 [ 1.000,  1.000], mean action: 0.525 [0.000, 1.000],  loss: 12.256809, mae: 51.557751, mean_q: 103.890732\n",
      " 21842/50000: episode: 165, duration: 0.974s, episode steps: 200, steps per second: 205, episode reward: 200.000, mean reward:  1.000 [ 1.000,  1.000], mean action: 0.515 [0.000, 1.000],  loss: 15.232419, mae: 51.701309, mean_q: 103.938187\n",
      " 22041/50000: episode: 166, duration: 0.951s, episode steps: 199, steps per second: 209, episode reward: 199.000, mean reward:  1.000 [ 1.000,  1.000], mean action: 0.523 [0.000, 1.000],  loss: 15.068274, mae: 52.020386, mean_q: 104.592987\n",
      " 22239/50000: episode: 167, duration: 0.890s, episode steps: 198, steps per second: 222, episode reward: 198.000, mean reward:  1.000 [ 1.000,  1.000], mean action: 0.530 [0.000, 1.000],  loss: 21.089651, mae: 52.109997, mean_q: 104.781349\n",
      " 22436/50000: episode: 168, duration: 0.860s, episode steps: 197, steps per second: 229, episode reward: 197.000, mean reward:  1.000 [ 1.000,  1.000], mean action: 0.533 [0.000, 1.000],  loss: 17.389582, mae: 51.757477, mean_q: 104.172363\n",
      " 22636/50000: episode: 169, duration: 0.884s, episode steps: 200, steps per second: 226, episode reward: 200.000, mean reward:  1.000 [ 1.000,  1.000], mean action: 0.515 [0.000, 1.000],  loss: 11.022046, mae: 51.973576, mean_q: 104.761398\n",
      " 22822/50000: episode: 170, duration: 0.893s, episode steps: 186, steps per second: 208, episode reward: 186.000, mean reward:  1.000 [ 1.000,  1.000], mean action: 0.538 [0.000, 1.000],  loss: 18.435553, mae: 52.453987, mean_q: 105.540344\n",
      " 23012/50000: episode: 171, duration: 0.860s, episode steps: 190, steps per second: 221, episode reward: 190.000, mean reward:  1.000 [ 1.000,  1.000], mean action: 0.542 [0.000, 1.000],  loss: 20.642174, mae: 52.354912, mean_q: 105.278969\n",
      " 23191/50000: episode: 172, duration: 0.856s, episode steps: 179, steps per second: 209, episode reward: 179.000, mean reward:  1.000 [ 1.000,  1.000], mean action: 0.536 [0.000, 1.000],  loss: 15.207078, mae: 52.271748, mean_q: 105.158997\n",
      " 23391/50000: episode: 173, duration: 0.950s, episode steps: 200, steps per second: 210, episode reward: 200.000, mean reward:  1.000 [ 1.000,  1.000], mean action: 0.515 [0.000, 1.000],  loss: 18.252922, mae: 52.528587, mean_q: 105.787209\n",
      " 23582/50000: episode: 174, duration: 0.925s, episode steps: 191, steps per second: 206, episode reward: 191.000, mean reward:  1.000 [ 1.000,  1.000], mean action: 0.529 [0.000, 1.000],  loss: 17.765871, mae: 52.672878, mean_q: 105.942612\n",
      " 23766/50000: episode: 175, duration: 0.850s, episode steps: 184, steps per second: 216, episode reward: 184.000, mean reward:  1.000 [ 1.000,  1.000], mean action: 0.538 [0.000, 1.000],  loss: 15.758066, mae: 52.405449, mean_q: 105.574364\n",
      " 23966/50000: episode: 176, duration: 1.076s, episode steps: 200, steps per second: 186, episode reward: 200.000, mean reward:  1.000 [ 1.000,  1.000], mean action: 0.515 [0.000, 1.000],  loss: 16.024641, mae: 52.638130, mean_q: 106.047012\n",
      " 24144/50000: episode: 177, duration: 0.909s, episode steps: 178, steps per second: 196, episode reward: 178.000, mean reward:  1.000 [ 1.000,  1.000], mean action: 0.551 [0.000, 1.000],  loss: 13.705622, mae: 53.098469, mean_q: 106.789948\n",
      " 24315/50000: episode: 178, duration: 0.772s, episode steps: 171, steps per second: 222, episode reward: 171.000, mean reward:  1.000 [ 1.000,  1.000], mean action: 0.532 [0.000, 1.000],  loss: 18.320158, mae: 52.902435, mean_q: 106.377045\n"
     ]
    },
    {
     "name": "stdout",
     "output_type": "stream",
     "text": [
      " 24485/50000: episode: 179, duration: 0.754s, episode steps: 170, steps per second: 225, episode reward: 170.000, mean reward:  1.000 [ 1.000,  1.000], mean action: 0.535 [0.000, 1.000],  loss: 6.049616, mae: 52.770805, mean_q: 106.562820\n",
      " 24683/50000: episode: 180, duration: 0.940s, episode steps: 198, steps per second: 211, episode reward: 198.000, mean reward:  1.000 [ 1.000,  1.000], mean action: 0.520 [0.000, 1.000],  loss: 13.107698, mae: 52.732796, mean_q: 106.215034\n",
      " 24870/50000: episode: 181, duration: 0.859s, episode steps: 187, steps per second: 218, episode reward: 187.000, mean reward:  1.000 [ 1.000,  1.000], mean action: 0.524 [0.000, 1.000],  loss: 9.849440, mae: 53.120071, mean_q: 107.072945\n",
      " 25070/50000: episode: 182, duration: 0.952s, episode steps: 200, steps per second: 210, episode reward: 200.000, mean reward:  1.000 [ 1.000,  1.000], mean action: 0.520 [0.000, 1.000],  loss: 12.907976, mae: 53.387596, mean_q: 107.459396\n",
      " 25270/50000: episode: 183, duration: 0.947s, episode steps: 200, steps per second: 211, episode reward: 200.000, mean reward:  1.000 [ 1.000,  1.000], mean action: 0.520 [0.000, 1.000],  loss: 11.880031, mae: 53.388641, mean_q: 107.502518\n",
      " 25470/50000: episode: 184, duration: 0.995s, episode steps: 200, steps per second: 201, episode reward: 200.000, mean reward:  1.000 [ 1.000,  1.000], mean action: 0.520 [0.000, 1.000],  loss: 10.406162, mae: 53.603058, mean_q: 108.061798\n",
      " 25634/50000: episode: 185, duration: 0.870s, episode steps: 164, steps per second: 189, episode reward: 164.000, mean reward:  1.000 [ 1.000,  1.000], mean action: 0.543 [0.000, 1.000],  loss: 13.064514, mae: 53.498173, mean_q: 107.514969\n",
      " 25831/50000: episode: 186, duration: 0.905s, episode steps: 197, steps per second: 218, episode reward: 197.000, mean reward:  1.000 [ 1.000,  1.000], mean action: 0.523 [0.000, 1.000],  loss: 12.394333, mae: 53.395767, mean_q: 107.551117\n",
      " 26031/50000: episode: 187, duration: 1.081s, episode steps: 200, steps per second: 185, episode reward: 200.000, mean reward:  1.000 [ 1.000,  1.000], mean action: 0.515 [0.000, 1.000],  loss: 10.242520, mae: 53.237007, mean_q: 107.230896\n",
      " 26219/50000: episode: 188, duration: 1.001s, episode steps: 188, steps per second: 188, episode reward: 188.000, mean reward:  1.000 [ 1.000,  1.000], mean action: 0.521 [0.000, 1.000],  loss: 9.699075, mae: 53.205067, mean_q: 107.207947\n",
      " 26377/50000: episode: 189, duration: 0.842s, episode steps: 158, steps per second: 188, episode reward: 158.000, mean reward:  1.000 [ 1.000,  1.000], mean action: 0.532 [0.000, 1.000],  loss: 14.675303, mae: 53.297455, mean_q: 107.122925\n",
      " 26568/50000: episode: 190, duration: 0.995s, episode steps: 191, steps per second: 192, episode reward: 191.000, mean reward:  1.000 [ 1.000,  1.000], mean action: 0.518 [0.000, 1.000],  loss: 15.100871, mae: 53.566154, mean_q: 107.677864\n",
      " 26757/50000: episode: 191, duration: 1.010s, episode steps: 189, steps per second: 187, episode reward: 189.000, mean reward:  1.000 [ 1.000,  1.000], mean action: 0.524 [0.000, 1.000],  loss: 10.574306, mae: 53.760715, mean_q: 108.164421\n",
      " 26930/50000: episode: 192, duration: 0.866s, episode steps: 173, steps per second: 200, episode reward: 173.000, mean reward:  1.000 [ 1.000,  1.000], mean action: 0.526 [0.000, 1.000],  loss: 13.038642, mae: 53.448902, mean_q: 107.476021\n",
      " 27130/50000: episode: 193, duration: 0.938s, episode steps: 200, steps per second: 213, episode reward: 200.000, mean reward:  1.000 [ 1.000,  1.000], mean action: 0.520 [0.000, 1.000],  loss: 8.438281, mae: 52.983971, mean_q: 106.713936\n",
      " 27330/50000: episode: 194, duration: 0.933s, episode steps: 200, steps per second: 214, episode reward: 200.000, mean reward:  1.000 [ 1.000,  1.000], mean action: 0.520 [0.000, 1.000],  loss: 8.125134, mae: 53.289551, mean_q: 107.333649\n",
      " 27525/50000: episode: 195, duration: 0.903s, episode steps: 195, steps per second: 216, episode reward: 195.000, mean reward:  1.000 [ 1.000,  1.000], mean action: 0.523 [0.000, 1.000],  loss: 12.321226, mae: 53.352566, mean_q: 107.367004\n",
      " 27685/50000: episode: 196, duration: 0.765s, episode steps: 160, steps per second: 209, episode reward: 160.000, mean reward:  1.000 [ 1.000,  1.000], mean action: 0.531 [0.000, 1.000],  loss: 13.121042, mae: 53.410255, mean_q: 107.416420\n",
      " 27855/50000: episode: 197, duration: 0.865s, episode steps: 170, steps per second: 197, episode reward: 170.000, mean reward:  1.000 [ 1.000,  1.000], mean action: 0.529 [0.000, 1.000],  loss: 8.783466, mae: 53.182480, mean_q: 107.085640\n",
      " 28030/50000: episode: 198, duration: 0.983s, episode steps: 175, steps per second: 178, episode reward: 175.000, mean reward:  1.000 [ 1.000,  1.000], mean action: 0.526 [0.000, 1.000],  loss: 4.724754, mae: 53.411877, mean_q: 107.674072\n",
      " 28195/50000: episode: 199, duration: 0.885s, episode steps: 165, steps per second: 186, episode reward: 165.000, mean reward:  1.000 [ 1.000,  1.000], mean action: 0.527 [0.000, 1.000],  loss: 10.310321, mae: 52.961399, mean_q: 106.554024\n",
      " 28367/50000: episode: 200, duration: 0.884s, episode steps: 172, steps per second: 195, episode reward: 172.000, mean reward:  1.000 [ 1.000,  1.000], mean action: 0.529 [0.000, 1.000],  loss: 8.179306, mae: 53.516476, mean_q: 107.594681\n",
      " 28529/50000: episode: 201, duration: 0.757s, episode steps: 162, steps per second: 214, episode reward: 162.000, mean reward:  1.000 [ 1.000,  1.000], mean action: 0.531 [0.000, 1.000],  loss: 9.578970, mae: 53.037762, mean_q: 106.749001\n",
      " 28701/50000: episode: 202, duration: 0.854s, episode steps: 172, steps per second: 201, episode reward: 172.000, mean reward:  1.000 [ 1.000,  1.000], mean action: 0.529 [0.000, 1.000],  loss: 12.515119, mae: 53.560780, mean_q: 107.621933\n",
      " 28882/50000: episode: 203, duration: 0.855s, episode steps: 181, steps per second: 212, episode reward: 181.000, mean reward:  1.000 [ 1.000,  1.000], mean action: 0.525 [0.000, 1.000],  loss: 7.824443, mae: 52.768890, mean_q: 106.201378\n",
      " 29059/50000: episode: 204, duration: 0.894s, episode steps: 177, steps per second: 198, episode reward: 177.000, mean reward:  1.000 [ 1.000,  1.000], mean action: 0.525 [0.000, 1.000],  loss: 10.038463, mae: 53.227009, mean_q: 106.914154\n",
      " 29234/50000: episode: 205, duration: 0.849s, episode steps: 175, steps per second: 206, episode reward: 175.000, mean reward:  1.000 [ 1.000,  1.000], mean action: 0.531 [0.000, 1.000],  loss: 10.652729, mae: 52.610077, mean_q: 105.739845\n",
      " 29393/50000: episode: 206, duration: 0.740s, episode steps: 159, steps per second: 215, episode reward: 159.000, mean reward:  1.000 [ 1.000,  1.000], mean action: 0.528 [0.000, 1.000],  loss: 11.645170, mae: 52.758869, mean_q: 105.880943\n",
      " 29561/50000: episode: 207, duration: 0.775s, episode steps: 168, steps per second: 217, episode reward: 168.000, mean reward:  1.000 [ 1.000,  1.000], mean action: 0.530 [0.000, 1.000],  loss: 6.999879, mae: 52.449276, mean_q: 105.387901\n",
      " 29759/50000: episode: 208, duration: 1.040s, episode steps: 198, steps per second: 190, episode reward: 198.000, mean reward:  1.000 [ 1.000,  1.000], mean action: 0.530 [0.000, 1.000],  loss: 13.258855, mae: 52.250523, mean_q: 104.973663\n",
      " 29920/50000: episode: 209, duration: 0.830s, episode steps: 161, steps per second: 194, episode reward: 161.000, mean reward:  1.000 [ 1.000,  1.000], mean action: 0.547 [0.000, 1.000],  loss: 7.818791, mae: 52.024273, mean_q: 104.678169\n",
      " 30100/50000: episode: 210, duration: 0.878s, episode steps: 180, steps per second: 205, episode reward: 180.000, mean reward:  1.000 [ 1.000,  1.000], mean action: 0.528 [0.000, 1.000],  loss: 9.741040, mae: 51.538738, mean_q: 103.753471\n",
      " 30275/50000: episode: 211, duration: 0.807s, episode steps: 175, steps per second: 217, episode reward: 175.000, mean reward:  1.000 [ 1.000,  1.000], mean action: 0.531 [0.000, 1.000],  loss: 10.385307, mae: 51.430492, mean_q: 103.473228\n",
      " 30473/50000: episode: 212, duration: 0.908s, episode steps: 198, steps per second: 218, episode reward: 198.000, mean reward:  1.000 [ 1.000,  1.000], mean action: 0.525 [0.000, 1.000],  loss: 6.478886, mae: 51.308151, mean_q: 103.139168\n",
      " 30657/50000: episode: 213, duration: 0.870s, episode steps: 184, steps per second: 212, episode reward: 184.000, mean reward:  1.000 [ 1.000,  1.000], mean action: 0.527 [0.000, 1.000],  loss: 9.040565, mae: 51.422771, mean_q: 103.378304\n"
     ]
    },
    {
     "name": "stdout",
     "output_type": "stream",
     "text": [
      " 30823/50000: episode: 214, duration: 0.734s, episode steps: 166, steps per second: 226, episode reward: 166.000, mean reward:  1.000 [ 1.000,  1.000], mean action: 0.524 [0.000, 1.000],  loss: 6.520683, mae: 51.479252, mean_q: 103.584831\n",
      " 31011/50000: episode: 215, duration: 0.861s, episode steps: 188, steps per second: 218, episode reward: 188.000, mean reward:  1.000 [ 1.000,  1.000], mean action: 0.521 [0.000, 1.000],  loss: 9.333827, mae: 50.881317, mean_q: 102.279930\n",
      " 31185/50000: episode: 216, duration: 0.905s, episode steps: 174, steps per second: 192, episode reward: 174.000, mean reward:  1.000 [ 1.000,  1.000], mean action: 0.523 [0.000, 1.000],  loss: 9.463153, mae: 51.038868, mean_q: 102.550583\n",
      " 31372/50000: episode: 217, duration: 1.807s, episode steps: 187, steps per second: 104, episode reward: 187.000, mean reward:  1.000 [ 1.000,  1.000], mean action: 0.524 [0.000, 1.000],  loss: 4.512249, mae: 50.877693, mean_q: 102.387115\n",
      " 31567/50000: episode: 218, duration: 0.935s, episode steps: 195, steps per second: 209, episode reward: 195.000, mean reward:  1.000 [ 1.000,  1.000], mean action: 0.528 [0.000, 1.000],  loss: 7.262860, mae: 50.996273, mean_q: 102.640488\n",
      " 31766/50000: episode: 219, duration: 0.960s, episode steps: 199, steps per second: 207, episode reward: 199.000, mean reward:  1.000 [ 1.000,  1.000], mean action: 0.523 [0.000, 1.000],  loss: 11.944476, mae: 50.349304, mean_q: 101.001511\n",
      " 31939/50000: episode: 220, duration: 0.798s, episode steps: 173, steps per second: 217, episode reward: 173.000, mean reward:  1.000 [ 1.000,  1.000], mean action: 0.555 [0.000, 1.000],  loss: 7.545645, mae: 50.404629, mean_q: 101.327843\n",
      " 32123/50000: episode: 221, duration: 0.934s, episode steps: 184, steps per second: 197, episode reward: 184.000, mean reward:  1.000 [ 1.000,  1.000], mean action: 0.522 [0.000, 1.000],  loss: 3.562955, mae: 50.238865, mean_q: 101.064407\n",
      " 32300/50000: episode: 222, duration: 0.868s, episode steps: 177, steps per second: 204, episode reward: 177.000, mean reward:  1.000 [ 1.000,  1.000], mean action: 0.531 [0.000, 1.000],  loss: 5.154405, mae: 50.036705, mean_q: 100.724442\n",
      " 32463/50000: episode: 223, duration: 0.774s, episode steps: 163, steps per second: 211, episode reward: 163.000, mean reward:  1.000 [ 1.000,  1.000], mean action: 0.528 [0.000, 1.000],  loss: 8.996995, mae: 50.609303, mean_q: 101.654907\n",
      " 32640/50000: episode: 224, duration: 0.868s, episode steps: 177, steps per second: 204, episode reward: 177.000, mean reward:  1.000 [ 1.000,  1.000], mean action: 0.520 [0.000, 1.000],  loss: 8.994511, mae: 50.518940, mean_q: 101.577728\n",
      " 32835/50000: episode: 225, duration: 1.126s, episode steps: 195, steps per second: 173, episode reward: 195.000, mean reward:  1.000 [ 1.000,  1.000], mean action: 0.523 [0.000, 1.000],  loss: 5.132789, mae: 49.542347, mean_q: 99.679344\n",
      " 32984/50000: episode: 226, duration: 0.806s, episode steps: 149, steps per second: 185, episode reward: 149.000, mean reward:  1.000 [ 1.000,  1.000], mean action: 0.557 [0.000, 1.000],  loss: 8.406698, mae: 49.839882, mean_q: 100.268440\n",
      " 33153/50000: episode: 227, duration: 0.777s, episode steps: 169, steps per second: 217, episode reward: 169.000, mean reward:  1.000 [ 1.000,  1.000], mean action: 0.556 [0.000, 1.000],  loss: 8.072672, mae: 49.763069, mean_q: 99.949844\n",
      " 33332/50000: episode: 228, duration: 0.843s, episode steps: 179, steps per second: 212, episode reward: 179.000, mean reward:  1.000 [ 1.000,  1.000], mean action: 0.525 [0.000, 1.000],  loss: 4.461771, mae: 49.583328, mean_q: 99.695518\n",
      " 33509/50000: episode: 229, duration: 0.793s, episode steps: 177, steps per second: 223, episode reward: 177.000, mean reward:  1.000 [ 1.000,  1.000], mean action: 0.537 [0.000, 1.000],  loss: 8.151979, mae: 49.321873, mean_q: 99.085609\n",
      " 33709/50000: episode: 230, duration: 0.997s, episode steps: 200, steps per second: 201, episode reward: 200.000, mean reward:  1.000 [ 1.000,  1.000], mean action: 0.525 [0.000, 1.000],  loss: 5.389478, mae: 49.092461, mean_q: 98.694801\n",
      " 33892/50000: episode: 231, duration: 0.822s, episode steps: 183, steps per second: 223, episode reward: 183.000, mean reward:  1.000 [ 1.000,  1.000], mean action: 0.525 [0.000, 1.000],  loss: 7.417180, mae: 49.052509, mean_q: 98.721634\n",
      " 34035/50000: episode: 232, duration: 0.716s, episode steps: 143, steps per second: 200, episode reward: 143.000, mean reward:  1.000 [ 1.000,  1.000], mean action: 0.524 [0.000, 1.000],  loss: 7.775980, mae: 49.169464, mean_q: 98.799500\n",
      " 34235/50000: episode: 233, duration: 0.981s, episode steps: 200, steps per second: 204, episode reward: 200.000, mean reward:  1.000 [ 1.000,  1.000], mean action: 0.520 [0.000, 1.000],  loss: 5.451629, mae: 49.241959, mean_q: 99.090233\n",
      " 34401/50000: episode: 234, duration: 0.797s, episode steps: 166, steps per second: 208, episode reward: 166.000, mean reward:  1.000 [ 1.000,  1.000], mean action: 0.524 [0.000, 1.000],  loss: 8.749325, mae: 48.703735, mean_q: 97.949707\n",
      " 34580/50000: episode: 235, duration: 0.861s, episode steps: 179, steps per second: 208, episode reward: 179.000, mean reward:  1.000 [ 1.000,  1.000], mean action: 0.525 [0.000, 1.000],  loss: 11.238635, mae: 49.144379, mean_q: 98.749260\n",
      " 34747/50000: episode: 236, duration: 0.787s, episode steps: 167, steps per second: 212, episode reward: 167.000, mean reward:  1.000 [ 1.000,  1.000], mean action: 0.521 [0.000, 1.000],  loss: 5.156372, mae: 48.699181, mean_q: 98.112366\n",
      " 34906/50000: episode: 237, duration: 0.730s, episode steps: 159, steps per second: 218, episode reward: 159.000, mean reward:  1.000 [ 1.000,  1.000], mean action: 0.522 [0.000, 1.000],  loss: 6.502693, mae: 48.904385, mean_q: 98.310791\n",
      " 35085/50000: episode: 238, duration: 0.862s, episode steps: 179, steps per second: 208, episode reward: 179.000, mean reward:  1.000 [ 1.000,  1.000], mean action: 0.525 [0.000, 1.000],  loss: 4.447329, mae: 48.294888, mean_q: 97.244057\n",
      " 35276/50000: episode: 239, duration: 0.877s, episode steps: 191, steps per second: 218, episode reward: 191.000, mean reward:  1.000 [ 1.000,  1.000], mean action: 0.529 [0.000, 1.000],  loss: 6.014250, mae: 48.110428, mean_q: 96.817673\n",
      " 35464/50000: episode: 240, duration: 0.988s, episode steps: 188, steps per second: 190, episode reward: 188.000, mean reward:  1.000 [ 1.000,  1.000], mean action: 0.521 [0.000, 1.000],  loss: 3.713159, mae: 48.159397, mean_q: 96.908005\n",
      " 35620/50000: episode: 241, duration: 0.791s, episode steps: 156, steps per second: 197, episode reward: 156.000, mean reward:  1.000 [ 1.000,  1.000], mean action: 0.558 [0.000, 1.000],  loss: 6.683688, mae: 47.787296, mean_q: 95.985878\n",
      " 35820/50000: episode: 242, duration: 1.048s, episode steps: 200, steps per second: 191, episode reward: 200.000, mean reward:  1.000 [ 1.000,  1.000], mean action: 0.520 [0.000, 1.000],  loss: 5.508429, mae: 47.465519, mean_q: 95.439041\n",
      " 35951/50000: episode: 243, duration: 0.595s, episode steps: 131, steps per second: 220, episode reward: 131.000, mean reward:  1.000 [ 1.000,  1.000], mean action: 0.565 [0.000, 1.000],  loss: 6.030832, mae: 47.413212, mean_q: 95.201172\n",
      " 36151/50000: episode: 244, duration: 0.941s, episode steps: 200, steps per second: 213, episode reward: 200.000, mean reward:  1.000 [ 1.000,  1.000], mean action: 0.525 [0.000, 1.000],  loss: 8.642609, mae: 47.690704, mean_q: 95.880302\n",
      " 36313/50000: episode: 245, duration: 0.772s, episode steps: 162, steps per second: 210, episode reward: 162.000, mean reward:  1.000 [ 1.000,  1.000], mean action: 0.556 [0.000, 1.000],  loss: 6.613069, mae: 47.409962, mean_q: 95.301109\n",
      " 36459/50000: episode: 246, duration: 0.655s, episode steps: 146, steps per second: 223, episode reward: 146.000, mean reward:  1.000 [ 1.000,  1.000], mean action: 0.562 [0.000, 1.000],  loss: 7.862440, mae: 47.017952, mean_q: 94.391724\n",
      " 36612/50000: episode: 247, duration: 0.713s, episode steps: 153, steps per second: 215, episode reward: 153.000, mean reward:  1.000 [ 1.000,  1.000], mean action: 0.556 [0.000, 1.000],  loss: 6.698938, mae: 47.290207, mean_q: 95.265327\n",
      " 36773/50000: episode: 248, duration: 0.876s, episode steps: 161, steps per second: 184, episode reward: 161.000, mean reward:  1.000 [ 1.000,  1.000], mean action: 0.522 [0.000, 1.000],  loss: 4.101560, mae: 46.941479, mean_q: 94.403847\n"
     ]
    },
    {
     "name": "stdout",
     "output_type": "stream",
     "text": [
      " 36973/50000: episode: 249, duration: 1.079s, episode steps: 200, steps per second: 185, episode reward: 200.000, mean reward:  1.000 [ 1.000,  1.000], mean action: 0.515 [0.000, 1.000],  loss: 5.406145, mae: 46.950356, mean_q: 94.426888\n",
      " 37173/50000: episode: 250, duration: 0.956s, episode steps: 200, steps per second: 209, episode reward: 200.000, mean reward:  1.000 [ 1.000,  1.000], mean action: 0.535 [0.000, 1.000],  loss: 6.306237, mae: 47.219955, mean_q: 94.932228\n",
      " 37331/50000: episode: 251, duration: 0.806s, episode steps: 158, steps per second: 196, episode reward: 158.000, mean reward:  1.000 [ 1.000,  1.000], mean action: 0.519 [0.000, 1.000],  loss: 4.761568, mae: 46.720585, mean_q: 93.959915\n",
      " 37492/50000: episode: 252, duration: 0.706s, episode steps: 161, steps per second: 228, episode reward: 161.000, mean reward:  1.000 [ 1.000,  1.000], mean action: 0.553 [0.000, 1.000],  loss: 4.482238, mae: 46.144348, mean_q: 92.831444\n",
      " 37651/50000: episode: 253, duration: 0.711s, episode steps: 159, steps per second: 224, episode reward: 159.000, mean reward:  1.000 [ 1.000,  1.000], mean action: 0.528 [0.000, 1.000],  loss: 3.726381, mae: 46.021538, mean_q: 92.597664\n",
      " 37822/50000: episode: 254, duration: 0.894s, episode steps: 171, steps per second: 191, episode reward: 171.000, mean reward:  1.000 [ 1.000,  1.000], mean action: 0.526 [0.000, 1.000],  loss: 5.269488, mae: 46.101692, mean_q: 92.703293\n",
      " 38020/50000: episode: 255, duration: 0.979s, episode steps: 198, steps per second: 202, episode reward: 198.000, mean reward:  1.000 [ 1.000,  1.000], mean action: 0.525 [0.000, 1.000],  loss: 4.116143, mae: 45.794891, mean_q: 92.044922\n",
      " 38220/50000: episode: 256, duration: 0.888s, episode steps: 200, steps per second: 225, episode reward: 200.000, mean reward:  1.000 [ 1.000,  1.000], mean action: 0.500 [0.000, 1.000],  loss: 3.521401, mae: 46.007114, mean_q: 92.539452\n",
      " 38385/50000: episode: 257, duration: 0.773s, episode steps: 165, steps per second: 214, episode reward: 165.000, mean reward:  1.000 [ 1.000,  1.000], mean action: 0.533 [0.000, 1.000],  loss: 3.172391, mae: 45.871613, mean_q: 92.351341\n",
      " 38562/50000: episode: 258, duration: 0.792s, episode steps: 177, steps per second: 223, episode reward: 177.000, mean reward:  1.000 [ 1.000,  1.000], mean action: 0.520 [0.000, 1.000],  loss: 7.157548, mae: 45.728123, mean_q: 91.725273\n",
      " 38730/50000: episode: 259, duration: 0.821s, episode steps: 168, steps per second: 205, episode reward: 168.000, mean reward:  1.000 [ 1.000,  1.000], mean action: 0.560 [0.000, 1.000],  loss: 5.485331, mae: 45.406818, mean_q: 91.238213\n",
      " 38906/50000: episode: 260, duration: 0.834s, episode steps: 176, steps per second: 211, episode reward: 176.000, mean reward:  1.000 [ 1.000,  1.000], mean action: 0.545 [0.000, 1.000],  loss: 8.492496, mae: 45.580383, mean_q: 91.537155\n",
      " 39072/50000: episode: 261, duration: 0.826s, episode steps: 166, steps per second: 201, episode reward: 166.000, mean reward:  1.000 [ 1.000,  1.000], mean action: 0.548 [0.000, 1.000],  loss: 4.532146, mae: 45.002102, mean_q: 90.365494\n",
      " 39244/50000: episode: 262, duration: 0.843s, episode steps: 172, steps per second: 204, episode reward: 172.000, mean reward:  1.000 [ 1.000,  1.000], mean action: 0.523 [0.000, 1.000],  loss: 5.620615, mae: 45.480785, mean_q: 91.325142\n",
      " 39392/50000: episode: 263, duration: 0.704s, episode steps: 148, steps per second: 210, episode reward: 148.000, mean reward:  1.000 [ 1.000,  1.000], mean action: 0.554 [0.000, 1.000],  loss: 5.727521, mae: 44.902210, mean_q: 90.271088\n",
      " 39592/50000: episode: 264, duration: 0.952s, episode steps: 200, steps per second: 210, episode reward: 200.000, mean reward:  1.000 [ 1.000,  1.000], mean action: 0.510 [0.000, 1.000],  loss: 8.492330, mae: 44.423813, mean_q: 89.134880\n",
      " 39724/50000: episode: 265, duration: 0.643s, episode steps: 132, steps per second: 205, episode reward: 132.000, mean reward:  1.000 [ 1.000,  1.000], mean action: 0.561 [0.000, 1.000],  loss: 4.850426, mae: 44.250046, mean_q: 88.946831\n",
      " 39920/50000: episode: 266, duration: 1.021s, episode steps: 196, steps per second: 192, episode reward: 196.000, mean reward:  1.000 [ 1.000,  1.000], mean action: 0.520 [0.000, 1.000],  loss: 2.966627, mae: 44.800434, mean_q: 90.040100\n",
      " 40120/50000: episode: 267, duration: 1.010s, episode steps: 200, steps per second: 198, episode reward: 200.000, mean reward:  1.000 [ 1.000,  1.000], mean action: 0.505 [0.000, 1.000],  loss: 4.229207, mae: 44.181538, mean_q: 88.708122\n",
      " 40288/50000: episode: 268, duration: 0.963s, episode steps: 168, steps per second: 175, episode reward: 168.000, mean reward:  1.000 [ 1.000,  1.000], mean action: 0.554 [0.000, 1.000],  loss: 5.355096, mae: 44.252472, mean_q: 88.758385\n"
     ]
    }
   ],
   "source": [
    "%%time\n",
    "dqn.fit(gnwrapper.Monitor(env, directory=\"./cartpole\"), nb_steps=50000, visualize=True, verbose=2)"
   ]
  },
  {
   "cell_type": "code",
   "execution_count": null,
   "metadata": {},
   "outputs": [],
   "source": [
    "dqn.save_weights('cartpole.h5f', overwrite=True)"
   ]
  },
  {
   "cell_type": "code",
   "execution_count": null,
   "metadata": {},
   "outputs": [],
   "source": [
    "dqn.test(gnwrapper.Animation(env), nb_episodes=5, visualize=True)"
   ]
  },
  {
   "cell_type": "code",
   "execution_count": null,
   "metadata": {},
   "outputs": [],
   "source": []
  }
 ],
 "metadata": {
  "kernelspec": {
   "display_name": "Python 3",
   "language": "python",
   "name": "python3"
  },
  "language_info": {
   "codemirror_mode": {
    "name": "ipython",
    "version": 3
   },
   "file_extension": ".py",
   "mimetype": "text/x-python",
   "name": "python",
   "nbconvert_exporter": "python",
   "pygments_lexer": "ipython3",
   "version": "3.6.9"
  }
 },
 "nbformat": 4,
 "nbformat_minor": 2
}
