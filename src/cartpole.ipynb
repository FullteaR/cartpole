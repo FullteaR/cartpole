{
 "cells": [
  {
   "cell_type": "code",
   "execution_count": 1,
   "metadata": {},
   "outputs": [],
   "source": [
    "import os\n",
    "os.environ[\"CUDA_VISIBLE_DEVICES\"] = \"1\""
   ]
  },
  {
   "cell_type": "code",
   "execution_count": 2,
   "metadata": {},
   "outputs": [],
   "source": [
    "import numpy as np\n",
    "import gym\n",
    "import gnwrapper\n",
    "\n",
    "from tensorflow.keras.models import Sequential\n",
    "from tensorflow.keras.layers import Dense, Activation, Flatten\n",
    "from tensorflow.keras.optimizers import Adam\n",
    "\n",
    "from rl.agents.dqn import DQNAgent\n",
    "from rl.policy import BoltzmannQPolicy\n",
    "from rl.memory import SequentialMemory"
   ]
  },
  {
   "cell_type": "code",
   "execution_count": 3,
   "metadata": {},
   "outputs": [],
   "source": [
    "ENV_NAME = 'CartPole-v0'"
   ]
  },
  {
   "cell_type": "code",
   "execution_count": 4,
   "metadata": {},
   "outputs": [],
   "source": [
    "env = gym.make(ENV_NAME)\n",
    "np.random.seed(123)\n",
    "env.seed(123)\n",
    "nb_actions = env.action_space.n"
   ]
  },
  {
   "cell_type": "code",
   "execution_count": 5,
   "metadata": {},
   "outputs": [
    {
     "name": "stdout",
     "output_type": "stream",
     "text": [
      "Model: \"sequential\"\n",
      "_________________________________________________________________\n",
      "Layer (type)                 Output Shape              Param #   \n",
      "=================================================================\n",
      "flatten (Flatten)            (None, 4)                 0         \n",
      "_________________________________________________________________\n",
      "dense (Dense)                (None, 16)                80        \n",
      "_________________________________________________________________\n",
      "activation (Activation)      (None, 16)                0         \n",
      "_________________________________________________________________\n",
      "dense_1 (Dense)              (None, 16)                272       \n",
      "_________________________________________________________________\n",
      "activation_1 (Activation)    (None, 16)                0         \n",
      "_________________________________________________________________\n",
      "dense_2 (Dense)              (None, 16)                272       \n",
      "_________________________________________________________________\n",
      "activation_2 (Activation)    (None, 16)                0         \n",
      "_________________________________________________________________\n",
      "dense_3 (Dense)              (None, 2)                 34        \n",
      "_________________________________________________________________\n",
      "activation_3 (Activation)    (None, 2)                 0         \n",
      "=================================================================\n",
      "Total params: 658\n",
      "Trainable params: 658\n",
      "Non-trainable params: 0\n",
      "_________________________________________________________________\n",
      "None\n"
     ]
    }
   ],
   "source": [
    "model = Sequential()\n",
    "model.add(Flatten(input_shape=(1,) + env.observation_space.shape))\n",
    "model.add(Dense(16))\n",
    "model.add(Activation('relu'))\n",
    "model.add(Dense(16))\n",
    "model.add(Activation('relu'))\n",
    "model.add(Dense(16))\n",
    "model.add(Activation('relu'))\n",
    "model.add(Dense(nb_actions))\n",
    "model.add(Activation('linear'))\n",
    "print(model.summary())"
   ]
  },
  {
   "cell_type": "code",
   "execution_count": 6,
   "metadata": {},
   "outputs": [],
   "source": [
    "memory = SequentialMemory(limit=50000, window_length=1)\n",
    "policy = BoltzmannQPolicy()\n",
    "dqn = DQNAgent(model=model, nb_actions=nb_actions, memory=memory, nb_steps_warmup=10,\n",
    "               target_model_update=1e-2, policy=policy)\n",
    "dqn.compile(Adam(learning_rate=1e-3), metrics=['mae'])"
   ]
  },
  {
   "cell_type": "code",
   "execution_count": 7,
   "metadata": {
    "scrolled": true
   },
   "outputs": [
    {
     "name": "stdout",
     "output_type": "stream",
     "text": [
      "Training for 10000 steps ...\n"
     ]
    },
    {
     "name": "stderr",
     "output_type": "stream",
     "text": [
      "/usr/local/bin/python/lib/python3.7/site-packages/tensorflow/python/keras/engine/training.py:2325: UserWarning: `Model.state_updates` will be removed in a future version. This property should not be used in TensorFlow 2.0, as `updates` are applied automatically.\n",
      "  warnings.warn('`Model.state_updates` will be removed in a future version. '\n",
      "/usr/local/bin/python/lib/python3.7/site-packages/rl/memory.py:37: UserWarning: Not enough entries to sample without replacement. Consider increasing your warm-up phase to avoid oversampling!\n",
      "  warnings.warn('Not enough entries to sample without replacement. Consider increasing your warm-up phase to avoid oversampling!')\n"
     ]
    },
    {
     "name": "stdout",
     "output_type": "stream",
     "text": [
      "   16/10000: episode: 1, duration: 0.777s, episode steps:  16, steps per second:  21, episode reward: 16.000, mean reward:  1.000 [ 1.000,  1.000], mean action: 0.625 [0.000, 1.000],  loss: 0.599421, mae: 0.600416, mean_q: 0.074502\n",
      "   30/10000: episode: 2, duration: 0.113s, episode steps:  14, steps per second: 124, episode reward: 14.000, mean reward:  1.000 [ 1.000,  1.000], mean action: 0.714 [0.000, 1.000],  loss: 0.563505, mae: 0.587395, mean_q: 0.150306\n"
     ]
    },
    {
     "name": "stderr",
     "output_type": "stream",
     "text": [
      "/usr/local/bin/python/lib/python3.7/site-packages/rl/memory.py:37: UserWarning: Not enough entries to sample without replacement. Consider increasing your warm-up phase to avoid oversampling!\n",
      "  warnings.warn('Not enough entries to sample without replacement. Consider increasing your warm-up phase to avoid oversampling!')\n",
      "/usr/local/bin/python/lib/python3.7/site-packages/rl/memory.py:37: UserWarning: Not enough entries to sample without replacement. Consider increasing your warm-up phase to avoid oversampling!\n",
      "  warnings.warn('Not enough entries to sample without replacement. Consider increasing your warm-up phase to avoid oversampling!')\n"
     ]
    },
    {
     "name": "stdout",
     "output_type": "stream",
     "text": [
      "   41/10000: episode: 3, duration: 0.091s, episode steps:  11, steps per second: 121, episode reward: 11.000, mean reward:  1.000 [ 1.000,  1.000], mean action: 0.818 [0.000, 1.000],  loss: 0.480536, mae: 0.548658, mean_q: 0.260102\n",
      "   54/10000: episode: 4, duration: 0.108s, episode steps:  13, steps per second: 120, episode reward: 13.000, mean reward:  1.000 [ 1.000,  1.000], mean action: 0.692 [0.000, 1.000],  loss: 0.382063, mae: 0.522244, mean_q: 0.424904\n",
      "   64/10000: episode: 5, duration: 0.084s, episode steps:  10, steps per second: 119, episode reward: 10.000, mean reward:  1.000 [ 1.000,  1.000], mean action: 0.800 [0.000, 1.000],  loss: 0.301777, mae: 0.507611, mean_q: 0.610340\n",
      "   85/10000: episode: 6, duration: 0.161s, episode steps:  21, steps per second: 131, episode reward: 21.000, mean reward:  1.000 [ 1.000,  1.000], mean action: 0.714 [0.000, 1.000],  loss: 0.201397, mae: 0.500669, mean_q: 0.904420\n",
      "   99/10000: episode: 7, duration: 0.110s, episode steps:  14, steps per second: 128, episode reward: 14.000, mean reward:  1.000 [ 1.000,  1.000], mean action: 0.714 [0.000, 1.000],  loss: 0.140944, mae: 0.583051, mean_q: 1.212212\n",
      "  118/10000: episode: 8, duration: 0.151s, episode steps:  19, steps per second: 126, episode reward: 19.000, mean reward:  1.000 [ 1.000,  1.000], mean action: 0.684 [0.000, 1.000],  loss: 0.104585, mae: 0.670996, mean_q: 1.356692\n",
      "  129/10000: episode: 9, duration: 0.092s, episode steps:  11, steps per second: 120, episode reward: 11.000, mean reward:  1.000 [ 1.000,  1.000], mean action: 0.727 [0.000, 1.000],  loss: 0.087850, mae: 0.734790, mean_q: 1.454699\n",
      "  144/10000: episode: 10, duration: 0.118s, episode steps:  15, steps per second: 128, episode reward: 15.000, mean reward:  1.000 [ 1.000,  1.000], mean action: 0.733 [0.000, 1.000],  loss: 0.075004, mae: 0.784846, mean_q: 1.566538\n",
      "  192/10000: episode: 11, duration: 0.376s, episode steps:  48, steps per second: 128, episode reward: 48.000, mean reward:  1.000 [ 1.000,  1.000], mean action: 0.542 [0.000, 1.000],  loss: 0.061472, mae: 0.896154, mean_q: 1.742216\n",
      "  226/10000: episode: 12, duration: 0.261s, episode steps:  34, steps per second: 130, episode reward: 34.000, mean reward:  1.000 [ 1.000,  1.000], mean action: 0.529 [0.000, 1.000],  loss: 0.056744, mae: 1.035091, mean_q: 1.999538\n",
      "  238/10000: episode: 13, duration: 0.094s, episode steps:  12, steps per second: 128, episode reward: 12.000, mean reward:  1.000 [ 1.000,  1.000], mean action: 0.750 [0.000, 1.000],  loss: 0.047729, mae: 1.098241, mean_q: 2.122149\n",
      "  262/10000: episode: 14, duration: 0.181s, episode steps:  24, steps per second: 133, episode reward: 24.000, mean reward:  1.000 [ 1.000,  1.000], mean action: 0.375 [0.000, 1.000],  loss: 0.060214, mae: 1.180601, mean_q: 2.260182\n",
      "  283/10000: episode: 15, duration: 0.161s, episode steps:  21, steps per second: 130, episode reward: 21.000, mean reward:  1.000 [ 1.000,  1.000], mean action: 0.619 [0.000, 1.000],  loss: 0.063499, mae: 1.250290, mean_q: 2.385865\n",
      "  299/10000: episode: 16, duration: 0.120s, episode steps:  16, steps per second: 133, episode reward: 16.000, mean reward:  1.000 [ 1.000,  1.000], mean action: 0.375 [0.000, 1.000],  loss: 0.076276, mae: 1.319164, mean_q: 2.500943\n",
      "  316/10000: episode: 17, duration: 0.133s, episode steps:  17, steps per second: 128, episode reward: 17.000, mean reward:  1.000 [ 1.000,  1.000], mean action: 0.647 [0.000, 1.000],  loss: 0.047851, mae: 1.365487, mean_q: 2.641443\n",
      "  331/10000: episode: 18, duration: 0.112s, episode steps:  15, steps per second: 134, episode reward: 15.000, mean reward:  1.000 [ 1.000,  1.000], mean action: 0.333 [0.000, 1.000],  loss: 0.081130, mae: 1.432043, mean_q: 2.708651\n",
      "  367/10000: episode: 19, duration: 0.273s, episode steps:  36, steps per second: 132, episode reward: 36.000, mean reward:  1.000 [ 1.000,  1.000], mean action: 0.528 [0.000, 1.000],  loss: 0.097924, mae: 1.542759, mean_q: 2.912881\n",
      "  379/10000: episode: 20, duration: 0.096s, episode steps:  12, steps per second: 125, episode reward: 12.000, mean reward:  1.000 [ 1.000,  1.000], mean action: 0.583 [0.000, 1.000],  loss: 0.093386, mae: 1.600296, mean_q: 3.031416\n",
      "  399/10000: episode: 21, duration: 0.153s, episode steps:  20, steps per second: 130, episode reward: 20.000, mean reward:  1.000 [ 1.000,  1.000], mean action: 0.550 [0.000, 1.000],  loss: 0.112498, mae: 1.681528, mean_q: 3.153916\n",
      "  410/10000: episode: 22, duration: 0.084s, episode steps:  11, steps per second: 130, episode reward: 11.000, mean reward:  1.000 [ 1.000,  1.000], mean action: 0.818 [0.000, 1.000],  loss: 0.125984, mae: 1.737012, mean_q: 3.273088\n",
      "  441/10000: episode: 23, duration: 0.234s, episode steps:  31, steps per second: 132, episode reward: 31.000, mean reward:  1.000 [ 1.000,  1.000], mean action: 0.419 [0.000, 1.000],  loss: 0.117452, mae: 1.815625, mean_q: 3.427675\n",
      "  453/10000: episode: 24, duration: 0.095s, episode steps:  12, steps per second: 126, episode reward: 12.000, mean reward:  1.000 [ 1.000,  1.000], mean action: 0.833 [0.000, 1.000],  loss: 0.125903, mae: 1.893571, mean_q: 3.603050\n",
      "  493/10000: episode: 25, duration: 0.303s, episode steps:  40, steps per second: 132, episode reward: 40.000, mean reward:  1.000 [ 1.000,  1.000], mean action: 0.475 [0.000, 1.000],  loss: 0.114746, mae: 1.989041, mean_q: 3.805300\n",
      "  512/10000: episode: 26, duration: 0.148s, episode steps:  19, steps per second: 128, episode reward: 19.000, mean reward:  1.000 [ 1.000,  1.000], mean action: 0.632 [0.000, 1.000],  loss: 0.163375, mae: 2.079296, mean_q: 3.938830\n",
      "  552/10000: episode: 27, duration: 0.312s, episode steps:  40, steps per second: 128, episode reward: 40.000, mean reward:  1.000 [ 1.000,  1.000], mean action: 0.450 [0.000, 1.000],  loss: 0.135214, mae: 2.205450, mean_q: 4.246725\n",
      "  567/10000: episode: 28, duration: 0.125s, episode steps:  15, steps per second: 120, episode reward: 15.000, mean reward:  1.000 [ 1.000,  1.000], mean action: 0.267 [0.000, 1.000],  loss: 0.127830, mae: 2.322013, mean_q: 4.495772\n",
      "  581/10000: episode: 29, duration: 0.115s, episode steps:  14, steps per second: 122, episode reward: 14.000, mean reward:  1.000 [ 1.000,  1.000], mean action: 0.500 [0.000, 1.000],  loss: 0.160180, mae: 2.390892, mean_q: 4.589607\n",
      "  626/10000: episode: 30, duration: 0.338s, episode steps:  45, steps per second: 133, episode reward: 45.000, mean reward:  1.000 [ 1.000,  1.000], mean action: 0.556 [0.000, 1.000],  loss: 0.176426, mae: 2.497886, mean_q: 4.799911\n",
      "  685/10000: episode: 31, duration: 0.446s, episode steps:  59, steps per second: 132, episode reward: 59.000, mean reward:  1.000 [ 1.000,  1.000], mean action: 0.492 [0.000, 1.000],  loss: 0.192553, mae: 2.709256, mean_q: 5.207349\n",
      "  706/10000: episode: 32, duration: 0.165s, episode steps:  21, steps per second: 128, episode reward: 21.000, mean reward:  1.000 [ 1.000,  1.000], mean action: 0.429 [0.000, 1.000],  loss: 0.322254, mae: 2.901575, mean_q: 5.568712\n",
      "  722/10000: episode: 33, duration: 0.128s, episode steps:  16, steps per second: 125, episode reward: 16.000, mean reward:  1.000 [ 1.000,  1.000], mean action: 0.375 [0.000, 1.000],  loss: 0.141981, mae: 2.985711, mean_q: 5.860909\n",
      "  736/10000: episode: 34, duration: 0.112s, episode steps:  14, steps per second: 125, episode reward: 14.000, mean reward:  1.000 [ 1.000,  1.000], mean action: 0.500 [0.000, 1.000],  loss: 0.305788, mae: 3.034187, mean_q: 5.871007\n",
      "  765/10000: episode: 35, duration: 0.223s, episode steps:  29, steps per second: 130, episode reward: 29.000, mean reward:  1.000 [ 1.000,  1.000], mean action: 0.414 [0.000, 1.000],  loss: 0.273042, mae: 3.146317, mean_q: 6.081635\n",
      "  799/10000: episode: 36, duration: 0.270s, episode steps:  34, steps per second: 126, episode reward: 34.000, mean reward:  1.000 [ 1.000,  1.000], mean action: 0.471 [0.000, 1.000],  loss: 0.285793, mae: 3.267241, mean_q: 6.385543\n",
      "  834/10000: episode: 37, duration: 0.256s, episode steps:  35, steps per second: 137, episode reward: 35.000, mean reward:  1.000 [ 1.000,  1.000], mean action: 0.571 [0.000, 1.000],  loss: 0.295140, mae: 3.400769, mean_q: 6.616752\n",
      "  843/10000: episode: 38, duration: 0.075s, episode steps:   9, steps per second: 119, episode reward:  9.000, mean reward:  1.000 [ 1.000,  1.000], mean action: 0.111 [0.000, 1.000],  loss: 0.351885, mae: 3.508994, mean_q: 6.802831\n",
      "  854/10000: episode: 39, duration: 0.087s, episode steps:  11, steps per second: 127, episode reward: 11.000, mean reward:  1.000 [ 1.000,  1.000], mean action: 0.545 [0.000, 1.000],  loss: 0.268739, mae: 3.464559, mean_q: 6.718419\n"
     ]
    },
    {
     "name": "stdout",
     "output_type": "stream",
     "text": [
      "  887/10000: episode: 40, duration: 0.246s, episode steps:  33, steps per second: 134, episode reward: 33.000, mean reward:  1.000 [ 1.000,  1.000], mean action: 0.515 [0.000, 1.000],  loss: 0.296167, mae: 3.644490, mean_q: 7.116068\n",
      "  903/10000: episode: 41, duration: 0.120s, episode steps:  16, steps per second: 133, episode reward: 16.000, mean reward:  1.000 [ 1.000,  1.000], mean action: 0.438 [0.000, 1.000],  loss: 0.466617, mae: 3.732291, mean_q: 7.210036\n",
      "  920/10000: episode: 42, duration: 0.134s, episode steps:  17, steps per second: 127, episode reward: 17.000, mean reward:  1.000 [ 1.000,  1.000], mean action: 0.588 [0.000, 1.000],  loss: 0.370328, mae: 3.812793, mean_q: 7.395401\n",
      "  941/10000: episode: 43, duration: 0.157s, episode steps:  21, steps per second: 134, episode reward: 21.000, mean reward:  1.000 [ 1.000,  1.000], mean action: 0.429 [0.000, 1.000],  loss: 0.224751, mae: 3.862555, mean_q: 7.644996\n",
      "  981/10000: episode: 44, duration: 0.292s, episode steps:  40, steps per second: 137, episode reward: 40.000, mean reward:  1.000 [ 1.000,  1.000], mean action: 0.425 [0.000, 1.000],  loss: 0.407767, mae: 3.964055, mean_q: 7.777490\n",
      " 1016/10000: episode: 45, duration: 0.261s, episode steps:  35, steps per second: 134, episode reward: 35.000, mean reward:  1.000 [ 1.000,  1.000], mean action: 0.571 [0.000, 1.000],  loss: 0.296355, mae: 4.133340, mean_q: 8.198928\n",
      " 1050/10000: episode: 46, duration: 0.255s, episode steps:  34, steps per second: 133, episode reward: 34.000, mean reward:  1.000 [ 1.000,  1.000], mean action: 0.500 [0.000, 1.000],  loss: 0.378680, mae: 4.300989, mean_q: 8.496071\n",
      " 1065/10000: episode: 47, duration: 0.114s, episode steps:  15, steps per second: 131, episode reward: 15.000, mean reward:  1.000 [ 1.000,  1.000], mean action: 0.600 [0.000, 1.000],  loss: 0.311798, mae: 4.379867, mean_q: 8.680984\n",
      " 1222/10000: episode: 48, duration: 1.156s, episode steps: 157, steps per second: 136, episode reward: 157.000, mean reward:  1.000 [ 1.000,  1.000], mean action: 0.503 [0.000, 1.000],  loss: 0.464298, mae: 4.751459, mean_q: 9.422297\n",
      " 1332/10000: episode: 49, duration: 0.809s, episode steps: 110, steps per second: 136, episode reward: 110.000, mean reward:  1.000 [ 1.000,  1.000], mean action: 0.491 [0.000, 1.000],  loss: 0.498768, mae: 5.315612, mean_q: 10.583367\n",
      " 1508/10000: episode: 50, duration: 1.309s, episode steps: 176, steps per second: 134, episode reward: 176.000, mean reward:  1.000 [ 1.000,  1.000], mean action: 0.506 [0.000, 1.000],  loss: 0.497459, mae: 5.918483, mean_q: 11.828794\n",
      " 1588/10000: episode: 51, duration: 0.606s, episode steps:  80, steps per second: 132, episode reward: 80.000, mean reward:  1.000 [ 1.000,  1.000], mean action: 0.487 [0.000, 1.000],  loss: 0.618335, mae: 6.478827, mean_q: 13.004209\n",
      " 1640/10000: episode: 52, duration: 0.383s, episode steps:  52, steps per second: 136, episode reward: 52.000, mean reward:  1.000 [ 1.000,  1.000], mean action: 0.500 [0.000, 1.000],  loss: 0.671260, mae: 6.807953, mean_q: 13.631855\n",
      " 1779/10000: episode: 53, duration: 1.018s, episode steps: 139, steps per second: 137, episode reward: 139.000, mean reward:  1.000 [ 1.000,  1.000], mean action: 0.475 [0.000, 1.000],  loss: 0.586669, mae: 7.152065, mean_q: 14.516929\n",
      " 1978/10000: episode: 54, duration: 1.445s, episode steps: 199, steps per second: 138, episode reward: 199.000, mean reward:  1.000 [ 1.000,  1.000], mean action: 0.487 [0.000, 1.000],  loss: 0.621705, mae: 7.907457, mean_q: 16.020609\n",
      " 2178/10000: episode: 55, duration: 1.438s, episode steps: 200, steps per second: 139, episode reward: 200.000, mean reward:  1.000 [ 1.000,  1.000], mean action: 0.515 [0.000, 1.000],  loss: 0.733033, mae: 8.795753, mean_q: 17.846926\n",
      " 2338/10000: episode: 56, duration: 1.159s, episode steps: 160, steps per second: 138, episode reward: 160.000, mean reward:  1.000 [ 1.000,  1.000], mean action: 0.475 [0.000, 1.000],  loss: 0.796662, mae: 9.617528, mean_q: 19.527634\n",
      " 2538/10000: episode: 57, duration: 1.482s, episode steps: 200, steps per second: 135, episode reward: 200.000, mean reward:  1.000 [ 1.000,  1.000], mean action: 0.500 [0.000, 1.000],  loss: 0.845443, mae: 10.510999, mean_q: 21.352968\n",
      " 2736/10000: episode: 58, duration: 1.445s, episode steps: 198, steps per second: 137, episode reward: 198.000, mean reward:  1.000 [ 1.000,  1.000], mean action: 0.485 [0.000, 1.000],  loss: 0.840921, mae: 11.397064, mean_q: 23.240156\n",
      " 2936/10000: episode: 59, duration: 1.452s, episode steps: 200, steps per second: 138, episode reward: 200.000, mean reward:  1.000 [ 1.000,  1.000], mean action: 0.505 [0.000, 1.000],  loss: 0.776370, mae: 12.284884, mean_q: 25.071522\n",
      " 3136/10000: episode: 60, duration: 1.501s, episode steps: 200, steps per second: 133, episode reward: 200.000, mean reward:  1.000 [ 1.000,  1.000], mean action: 0.485 [0.000, 1.000],  loss: 1.129776, mae: 13.287024, mean_q: 27.049721\n",
      " 3336/10000: episode: 61, duration: 1.470s, episode steps: 200, steps per second: 136, episode reward: 200.000, mean reward:  1.000 [ 1.000,  1.000], mean action: 0.475 [0.000, 1.000],  loss: 1.468833, mae: 14.189654, mean_q: 28.804272\n",
      " 3536/10000: episode: 62, duration: 1.483s, episode steps: 200, steps per second: 135, episode reward: 200.000, mean reward:  1.000 [ 1.000,  1.000], mean action: 0.485 [0.000, 1.000],  loss: 1.430331, mae: 15.066643, mean_q: 30.689796\n",
      " 3736/10000: episode: 63, duration: 1.449s, episode steps: 200, steps per second: 138, episode reward: 200.000, mean reward:  1.000 [ 1.000,  1.000], mean action: 0.485 [0.000, 1.000],  loss: 1.923945, mae: 15.964417, mean_q: 32.528873\n",
      " 3936/10000: episode: 64, duration: 1.486s, episode steps: 200, steps per second: 135, episode reward: 200.000, mean reward:  1.000 [ 1.000,  1.000], mean action: 0.495 [0.000, 1.000],  loss: 1.799392, mae: 16.905737, mean_q: 34.315140\n",
      " 4136/10000: episode: 65, duration: 1.487s, episode steps: 200, steps per second: 134, episode reward: 200.000, mean reward:  1.000 [ 1.000,  1.000], mean action: 0.485 [0.000, 1.000],  loss: 1.776415, mae: 17.718151, mean_q: 36.002144\n",
      " 4336/10000: episode: 66, duration: 1.441s, episode steps: 200, steps per second: 139, episode reward: 200.000, mean reward:  1.000 [ 1.000,  1.000], mean action: 0.490 [0.000, 1.000],  loss: 1.956413, mae: 18.501776, mean_q: 37.658756\n",
      " 4536/10000: episode: 67, duration: 1.453s, episode steps: 200, steps per second: 138, episode reward: 200.000, mean reward:  1.000 [ 1.000,  1.000], mean action: 0.485 [0.000, 1.000],  loss: 2.211372, mae: 19.430569, mean_q: 39.446022\n",
      " 4736/10000: episode: 68, duration: 1.453s, episode steps: 200, steps per second: 138, episode reward: 200.000, mean reward:  1.000 [ 1.000,  1.000], mean action: 0.485 [0.000, 1.000],  loss: 2.340459, mae: 20.209450, mean_q: 41.027256\n",
      " 4936/10000: episode: 69, duration: 1.443s, episode steps: 200, steps per second: 139, episode reward: 200.000, mean reward:  1.000 [ 1.000,  1.000], mean action: 0.475 [0.000, 1.000],  loss: 2.679507, mae: 20.935478, mean_q: 42.478439\n",
      " 5136/10000: episode: 70, duration: 1.436s, episode steps: 200, steps per second: 139, episode reward: 200.000, mean reward:  1.000 [ 1.000,  1.000], mean action: 0.495 [0.000, 1.000],  loss: 2.922781, mae: 21.784540, mean_q: 44.137108\n",
      " 5336/10000: episode: 71, duration: 1.447s, episode steps: 200, steps per second: 138, episode reward: 200.000, mean reward:  1.000 [ 1.000,  1.000], mean action: 0.505 [0.000, 1.000],  loss: 2.848472, mae: 22.451670, mean_q: 45.528408\n",
      " 5536/10000: episode: 72, duration: 1.435s, episode steps: 200, steps per second: 139, episode reward: 200.000, mean reward:  1.000 [ 1.000,  1.000], mean action: 0.505 [0.000, 1.000],  loss: 4.083065, mae: 23.284878, mean_q: 47.110409\n",
      " 5736/10000: episode: 73, duration: 1.472s, episode steps: 200, steps per second: 136, episode reward: 200.000, mean reward:  1.000 [ 1.000,  1.000], mean action: 0.480 [0.000, 1.000],  loss: 1.891238, mae: 23.964418, mean_q: 48.653576\n",
      " 5936/10000: episode: 74, duration: 1.469s, episode steps: 200, steps per second: 136, episode reward: 200.000, mean reward:  1.000 [ 1.000,  1.000], mean action: 0.505 [0.000, 1.000],  loss: 4.636040, mae: 24.574585, mean_q: 49.659149\n"
     ]
    },
    {
     "name": "stdout",
     "output_type": "stream",
     "text": [
      " 6136/10000: episode: 75, duration: 1.442s, episode steps: 200, steps per second: 139, episode reward: 200.000, mean reward:  1.000 [ 1.000,  1.000], mean action: 0.505 [0.000, 1.000],  loss: 3.596189, mae: 25.208738, mean_q: 51.001102\n",
      " 6336/10000: episode: 76, duration: 1.494s, episode steps: 200, steps per second: 134, episode reward: 200.000, mean reward:  1.000 [ 1.000,  1.000], mean action: 0.500 [0.000, 1.000],  loss: 2.682545, mae: 25.779917, mean_q: 52.279747\n",
      " 6536/10000: episode: 77, duration: 1.439s, episode steps: 200, steps per second: 139, episode reward: 200.000, mean reward:  1.000 [ 1.000,  1.000], mean action: 0.495 [0.000, 1.000],  loss: 4.496916, mae: 26.389032, mean_q: 53.406670\n",
      " 6736/10000: episode: 78, duration: 1.469s, episode steps: 200, steps per second: 136, episode reward: 200.000, mean reward:  1.000 [ 1.000,  1.000], mean action: 0.500 [0.000, 1.000],  loss: 3.910655, mae: 27.017578, mean_q: 54.705753\n",
      " 6936/10000: episode: 79, duration: 1.446s, episode steps: 200, steps per second: 138, episode reward: 200.000, mean reward:  1.000 [ 1.000,  1.000], mean action: 0.505 [0.000, 1.000],  loss: 4.973266, mae: 27.724045, mean_q: 56.050175\n",
      " 7136/10000: episode: 80, duration: 1.450s, episode steps: 200, steps per second: 138, episode reward: 200.000, mean reward:  1.000 [ 1.000,  1.000], mean action: 0.470 [0.000, 1.000],  loss: 3.563148, mae: 28.155291, mean_q: 56.922382\n",
      " 7336/10000: episode: 81, duration: 1.464s, episode steps: 200, steps per second: 137, episode reward: 200.000, mean reward:  1.000 [ 1.000,  1.000], mean action: 0.505 [0.000, 1.000],  loss: 5.069382, mae: 28.570303, mean_q: 57.671333\n",
      " 7536/10000: episode: 82, duration: 1.463s, episode steps: 200, steps per second: 137, episode reward: 200.000, mean reward:  1.000 [ 1.000,  1.000], mean action: 0.480 [0.000, 1.000],  loss: 4.536144, mae: 29.051342, mean_q: 58.671005\n",
      " 7736/10000: episode: 83, duration: 1.462s, episode steps: 200, steps per second: 137, episode reward: 200.000, mean reward:  1.000 [ 1.000,  1.000], mean action: 0.485 [0.000, 1.000],  loss: 4.962055, mae: 29.395866, mean_q: 59.402294\n",
      " 7936/10000: episode: 84, duration: 1.452s, episode steps: 200, steps per second: 138, episode reward: 200.000, mean reward:  1.000 [ 1.000,  1.000], mean action: 0.495 [0.000, 1.000],  loss: 3.577880, mae: 29.941738, mean_q: 60.535099\n",
      " 8136/10000: episode: 85, duration: 1.415s, episode steps: 200, steps per second: 141, episode reward: 200.000, mean reward:  1.000 [ 1.000,  1.000], mean action: 0.500 [0.000, 1.000],  loss: 4.477084, mae: 30.663284, mean_q: 61.984867\n",
      " 8336/10000: episode: 86, duration: 1.470s, episode steps: 200, steps per second: 136, episode reward: 200.000, mean reward:  1.000 [ 1.000,  1.000], mean action: 0.495 [0.000, 1.000],  loss: 5.005591, mae: 31.181059, mean_q: 63.043358\n",
      " 8536/10000: episode: 87, duration: 1.453s, episode steps: 200, steps per second: 138, episode reward: 200.000, mean reward:  1.000 [ 1.000,  1.000], mean action: 0.485 [0.000, 1.000],  loss: 4.668463, mae: 31.652794, mean_q: 64.041679\n",
      " 8736/10000: episode: 88, duration: 1.410s, episode steps: 200, steps per second: 142, episode reward: 200.000, mean reward:  1.000 [ 1.000,  1.000], mean action: 0.480 [0.000, 1.000],  loss: 3.547647, mae: 32.063324, mean_q: 64.826591\n",
      " 8936/10000: episode: 89, duration: 1.417s, episode steps: 200, steps per second: 141, episode reward: 200.000, mean reward:  1.000 [ 1.000,  1.000], mean action: 0.490 [0.000, 1.000],  loss: 5.414136, mae: 32.442490, mean_q: 65.561798\n",
      " 9136/10000: episode: 90, duration: 1.446s, episode steps: 200, steps per second: 138, episode reward: 200.000, mean reward:  1.000 [ 1.000,  1.000], mean action: 0.485 [0.000, 1.000],  loss: 3.821429, mae: 32.684723, mean_q: 66.062546\n",
      " 9336/10000: episode: 91, duration: 1.444s, episode steps: 200, steps per second: 139, episode reward: 200.000, mean reward:  1.000 [ 1.000,  1.000], mean action: 0.485 [0.000, 1.000],  loss: 5.028327, mae: 33.061211, mean_q: 66.651794\n",
      " 9536/10000: episode: 92, duration: 1.447s, episode steps: 200, steps per second: 138, episode reward: 200.000, mean reward:  1.000 [ 1.000,  1.000], mean action: 0.475 [0.000, 1.000],  loss: 4.965546, mae: 33.294579, mean_q: 67.272659\n",
      " 9736/10000: episode: 93, duration: 1.475s, episode steps: 200, steps per second: 136, episode reward: 200.000, mean reward:  1.000 [ 1.000,  1.000], mean action: 0.480 [0.000, 1.000],  loss: 4.540460, mae: 33.704945, mean_q: 68.043449\n",
      " 9936/10000: episode: 94, duration: 1.461s, episode steps: 200, steps per second: 137, episode reward: 200.000, mean reward:  1.000 [ 1.000,  1.000], mean action: 0.490 [0.000, 1.000],  loss: 4.516997, mae: 34.137733, mean_q: 68.870163\n",
      "done, took 74.034 seconds\n"
     ]
    },
    {
     "data": {
      "text/plain": [
       "<tensorflow.python.keras.callbacks.History at 0x7f5caadf5790>"
      ]
     },
     "execution_count": 7,
     "metadata": {},
     "output_type": "execute_result"
    }
   ],
   "source": [
    "dqn.fit(env, nb_steps=10000, visualize=False, verbose=2)"
   ]
  },
  {
   "cell_type": "code",
   "execution_count": 8,
   "metadata": {},
   "outputs": [],
   "source": [
    "dqn.save_weights('cartpole.h5f', overwrite=True)"
   ]
  },
  {
   "cell_type": "code",
   "execution_count": 9,
   "metadata": {},
   "outputs": [
    {
     "data": {
      "image/png": "[encoded data removed]",
      "text/plain": [
       "<Figure size 432x288 with 1 Axes>"
      ]
     },
     "metadata": {},
     "output_type": "display_data"
    },
    {
     "name": "stdout",
     "output_type": "stream",
     "text": [
      "Episode 5: reward: 200.000, steps: 200\n"
     ]
    },
    {
     "data": {
      "text/plain": [
       "<tensorflow.python.keras.callbacks.History at 0x7f5caa4eda90>"
      ]
     },
     "execution_count": 9,
     "metadata": {},
     "output_type": "execute_result"
    },
    {
     "data": {
      "image/png": "[encoded data removed]",
      "text/plain": [
       "<Figure size 432x288 with 1 Axes>"
      ]
     },
     "metadata": {
      "needs_background": "light"
     },
     "output_type": "display_data"
    }
   ],
   "source": [
    "dqn.test(gnwrapper.Animation(env), nb_episodes=5, visualize=True)"
   ]
  },
  {
   "cell_type": "code",
   "execution_count": null,
   "metadata": {},
   "outputs": [],
   "source": []
  }
 ],
 "metadata": {
  "kernelspec": {
   "display_name": "Python 3",
   "language": "python",
   "name": "python3"
  },
  "language_info": {
   "codemirror_mode": {
    "name": "ipython",
    "version": 3
   },
   "file_extension": ".py",
   "mimetype": "text/x-python",
   "name": "python",
   "nbconvert_exporter": "python",
   "pygments_lexer": "ipython3",
   "version": "3.7.4"
  }
 },
 "nbformat": 4,
 "nbformat_minor": 2
}
